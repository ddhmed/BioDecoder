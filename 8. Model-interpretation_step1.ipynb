{
 "cells": [
  {
   "cell_type": "code",
   "execution_count": 2,
   "id": "d660e552-8ce9-437b-b55b-6def5bad66c2",
   "metadata": {},
   "outputs": [],
   "source": [
    "### General analysis package\n",
    "import os\n",
    "import time\n",
    "import random\n",
    "import numpy as np\n",
    "import pandas as pd\n",
    "import scipy.stats as stats\n",
    "from scipy.stats import norm, pearsonr, spearmanr\n",
    "from scipy.spatial import distance\n",
    "### Drawing package\n",
    "import matplotlib.pyplot as plt\n",
    "from matplotlib import gridspec\n",
    "import matplotlib.lines as mlines\n",
    "from matplotlib.font_manager import FontProperties\n",
    "#import seaborn as sns\n",
    "import matplotlib as mpl\n",
    "mpl.rcParams['pdf.fonttype'] = 42 # Output editable PDF text\n",
    "### else\n",
    "#import cloudpickle as pickle\n",
    "import warnings\n",
    "warnings.filterwarnings(\"ignore\") # Error alert\n",
    "from IPython.core.interactiveshell import InteractiveShell\n",
    "InteractiveShell.ast_node_interactivity = 'all' #last_expr"
   ]
  },
  {
   "cell_type": "code",
   "execution_count": 3,
   "id": "2b24f65d-cbf2-4c1b-abb5-d273ebde4f71",
   "metadata": {},
   "outputs": [
    {
     "name": "stderr",
     "output_type": "stream",
     "text": [
      "Global seed set to 42\n"
     ]
    },
    {
     "data": {
      "text/plain": [
       "42"
      ]
     },
     "execution_count": 3,
     "metadata": {},
     "output_type": "execute_result"
    },
    {
     "name": "stdout",
     "output_type": "stream",
     "text": [
      "Using torch 1.10.1\n"
     ]
    }
   ],
   "source": [
    "from sklearn import model_selection\n",
    "from sklearn.preprocessing import StandardScaler, Normalizer\n",
    "from sklearn.ensemble import RandomForestClassifier\n",
    "from sklearn.linear_model import LogisticRegression\n",
    "from sklearn.svm import SVC\n",
    "from sklearn.metrics import roc_auc_score, accuracy_score\n",
    "from sklearn.model_selection import train_test_split, StratifiedShuffleSplit\n",
    "from sklearn.metrics import accuracy_score, balanced_accuracy_score, recall_score, precision_score, roc_auc_score, average_precision_score\n",
    "\n",
    "import math\n",
    "import torch\n",
    "from torch import nn\n",
    "import torch.nn.functional as F\n",
    "import torch.utils.data as TorchData\n",
    "from torchmetrics import Accuracy\n",
    "from pytorch_lightning import LightningModule, Trainer, seed_everything\n",
    "from pytorch_lightning.callbacks.early_stopping import EarlyStopping\n",
    "from pytorch_lightning.loggers import TensorBoardLogger\n",
    "\n",
    "from imblearn.over_sampling import RandomOverSampler, SMOTE\n",
    "\n",
    "import warnings\n",
    "warnings.filterwarnings('ignore')\n",
    "\n",
    "SEED = 42\n",
    "seed_everything(SEED, workers=True)\n",
    "\n",
    "print(\"Using torch\", torch.__version__)"
   ]
  },
  {
   "cell_type": "code",
   "execution_count": 4,
   "id": "45424c50-14a3-4060-80d3-7d36a378ef39",
   "metadata": {},
   "outputs": [],
   "source": [
    "microRNA = pd.read_csv('20220610_Results/1. diff_microRNA(FC2_FDR0.05).csv', index_col=0)['ID']"
   ]
  },
  {
   "cell_type": "raw",
   "id": "98e0671e-7ed0-4bfe-9960-8f4d22d177ff",
   "metadata": {},
   "source": [
    "path = 'Breast cancer/'\n",
    "### Target Gene\n",
    "tar_data = pd.read_csv(path+'Target/hsa_MTI.csv')\n",
    "mir2gene = {}\n",
    "for i in tar_data.index:\n",
    "    mir = str(tar_data.loc[i, 'miRNA']).strip()\n",
    "    gene = str(tar_data.loc[i, 'Target Gene (Entrez Gene ID)']).strip()\n",
    "    mir2gene[mir] = mir2gene.get(mir, set())\n",
    "    mir2gene[mir].add(gene)\n",
    "gene_set = set()\n",
    "for mir in microRNA:\n",
    "    gene_set.update(mir2gene.get(mir, set()))\n",
    "GENE_LIST = list(gene_set)\n",
    "GENE_MASK = []\n",
    "for mir in microRNA:\n",
    "    genes = mir2gene.get(mir, set())\n",
    "    GENE_MASK.append([1 if g in genes else 0 for g in GENE_LIST])\n",
    "GENE_MASK = torch.tensor(np.array(GENE_MASK).T, dtype=torch.float)\n",
    "### Module\n",
    "module_data = pd.read_csv(path+'KEGG/gene2module.txt', sep='\\t')\n",
    "gene2module = {}\n",
    "for i in module_data.index:\n",
    "    mid = str(module_data.loc[i, 'Module']).split('hsa_')[1].strip()\n",
    "    gene = str(module_data.loc[i, 'gene']).split('hsa:')[1].strip()\n",
    "    gene2module[gene] = gene2module.get(gene, set())\n",
    "    gene2module[gene].add(mid)\n",
    "module_set = set()\n",
    "for gene in GENE_LIST:\n",
    "    module_set.update(gene2module.get(gene, set()))\n",
    "MODULE_LIST = list(module_set)\n",
    "MODULE_MASK = []\n",
    "for gene in GENE_LIST:\n",
    "    modules = gene2module.get(gene, set())\n",
    "    MODULE_MASK.append([1 if m in modules else 0 for m in MODULE_LIST])\n",
    "MODULE_MASK = torch.tensor(np.array(MODULE_MASK).T, dtype=torch.float)\n",
    "### Pathway\n",
    "pathway_data = pd.read_csv(path+'KEGG/module2pathway.txt', sep='\\t')\n",
    "module2pathway = {}\n",
    "for i in pathway_data.index:\n",
    "    pathway = str(pathway_data.loc[i, 'Pathway']).split('path:')[1].strip()\n",
    "    module = str(pathway_data.loc[i, 'Module']).split('md:')[1].strip()\n",
    "    module2pathway[module] = module2pathway.get(module, set())\n",
    "    module2pathway[module].add(pathway)\n",
    "pathway_set = set()\n",
    "for module in MODULE_LIST:\n",
    "    pathway_set.update(module2pathway.get(module, set()))\n",
    "PATHWAY_LIST = list(pathway_set)\n",
    "\n",
    "PATHWAY_MASK = []\n",
    "for module in MODULE_LIST:\n",
    "    pathways = module2pathway.get(module, set())\n",
    "    PATHWAY_MASK.append([1 if p in pathways else 0 for p in PATHWAY_LIST])\n",
    "PATHWAY_MASK = torch.tensor(np.array(PATHWAY_MASK).T, dtype=torch.float)"
   ]
  },
  {
   "cell_type": "code",
   "execution_count": 5,
   "id": "949b7b5f-13e7-480e-910f-ba7cf46daa20",
   "metadata": {},
   "outputs": [],
   "source": [
    "import cloudpickle as pickle\n",
    "[mir2gene, GENE_LIST, GENE_MASK, gene2module, MODULE_LIST, MODULE_MASK,\n",
    " module2pathway, PATHWAY_LIST, PATHWAY_MASK] = pickle.load(open('20220610_Results/6. KEGG_MappingData.pkl', 'rb'))"
   ]
  },
  {
   "cell_type": "code",
   "execution_count": 6,
   "id": "176b0306-9159-4db3-bf0e-adb761bb2e69",
   "metadata": {},
   "outputs": [
    {
     "data": {
      "text/plain": [
       "(70, ['map00310', 'map00790', 'map00561', 'map01212'])"
      ]
     },
     "execution_count": 6,
     "metadata": {},
     "output_type": "execute_result"
    }
   ],
   "source": [
    "len(PATHWAY_LIST), PATHWAY_LIST[:4]"
   ]
  },
  {
   "cell_type": "code",
   "execution_count": 7,
   "id": "29fd25f4-5dff-4e46-b8f3-01ff760dd7ad",
   "metadata": {},
   "outputs": [],
   "source": [
    "class MaskedModel(LightningModule):\n",
    "    def __init__(self, mirN, geneN, gene_mask, moduleN, module_mask, pathwayN, pathway_mask, learning_rate):\n",
    "        super(MaskedModel, self).__init__()\n",
    "        self.save_hyperparameters()\n",
    "        self.learning_rate = learning_rate\n",
    "        # microRNA 2 Gene\n",
    "        self.mir2gene = nn.Linear(mirN, geneN)\n",
    "        self.mir2gene.weight.data = self.mir2gene.weight * gene_mask\n",
    "        self.gene_mask = gene_mask\n",
    "        self.gene_active = nn.ReLU() # ReLU Tanh\n",
    "        self.gene_bn = nn.BatchNorm1d(geneN, eps=1e-05, momentum=0.5, affine=True)\n",
    "        self.gene_dropout = nn.Dropout(p=0.8)\n",
    "        \n",
    "        ## Gene 2 Module\n",
    "        self.gene2module = nn.Linear(geneN, moduleN)\n",
    "        self.gene2module.weight.data = self.gene2module.weight * module_mask\n",
    "        self.module_mask = module_mask\n",
    "        self.module_active = nn.ReLU()\n",
    "        self.module_bn = nn.BatchNorm1d(moduleN, eps=1e-05, momentum=0.5, affine=True)\n",
    "        self.module_dropout = nn.Dropout(p=0.5)\n",
    "        \n",
    "        ## Module 2 Pathway\n",
    "        self.module2pathway = nn.Linear(moduleN, pathwayN)\n",
    "        self.module2pathway.weight.data = self.module2pathway.weight * pathway_mask\n",
    "        self.pathway_mask = pathway_mask\n",
    "        self.pathway_active = nn.ReLU()\n",
    "        self.pathway_bn = nn.BatchNorm1d(pathwayN, eps=1e-05, momentum=0.5, affine=True)\n",
    "        self.pathway_dropout = nn.Dropout(p=0.2)\n",
    "        \n",
    "        ## Output\n",
    "        self.pathway2out = nn.Linear(pathwayN, 2)\n",
    "        self.out_bn = nn.BatchNorm1d(2, eps=1e-05, momentum=0.5, affine=True)\n",
    "        #self.sigmoid = nn.Sigmoid()\n",
    "        \n",
    "        # Result save\n",
    "        self.gene_result = None\n",
    "        self.module_result = None\n",
    "        self.pathway_result = None\n",
    "    \n",
    "    def forward(self, x):\n",
    "        ## microRNA 2 Gene\n",
    "        #print(self.mir2gene.weight.data.shape, self.mir2gene.weight.shape, self.gene_mask.shape)\n",
    "        self.mir2gene.weight.data = self.mir2gene.weight * self.gene_mask\n",
    "        #print(self.mir2gene.weight.data.shape)\n",
    "        gene_x = self.mir2gene(x)\n",
    "        gene_x = self.gene_active(gene_x)\n",
    "        gene_x = self.gene_bn(gene_x)\n",
    "        gene_x = self.gene_dropout(gene_x)\n",
    "        self.gene_result = gene_x # save result\n",
    "        \n",
    "        ## Gene 2 Module\n",
    "        self.gene2module.weight.data = self.gene2module.weight * self.module_mask\n",
    "        module_x = self.gene2module(gene_x)\n",
    "        module_x = self.module_active(module_x)\n",
    "        module_x = self.module_bn(module_x)\n",
    "        module_x = self.module_dropout(module_x)\n",
    "        self.module_result = module_x # save result\n",
    "        \n",
    "        ## Module 2 Pathway\n",
    "        self.module2pathway.weight.data = self.module2pathway.weight * self.pathway_mask\n",
    "        pathway_x = self.module2pathway(module_x)\n",
    "        pathway_x = self.pathway_active(pathway_x)\n",
    "        pathway_x = self.pathway_bn(pathway_x)\n",
    "        pathway_x = self.pathway_dropout(pathway_x)\n",
    "        self.pathway_result = pathway_x # save result\n",
    "        \n",
    "        ## Output\n",
    "        out_x = self.pathway2out(pathway_x)\n",
    "        out_x = self.out_bn(out_x)\n",
    "        #out_x = self.sigmoid(out_x)\n",
    "        return out_x\n",
    "    \n",
    "    def training_step(self, batch, batch_nb):\n",
    "        x, y = batch\n",
    "        loss = F.cross_entropy(self.forward(x), y)\n",
    "        self.log(\"train_loss\", loss, prog_bar=True)\n",
    "        return loss\n",
    "    \n",
    "    def configure_optimizers(self):\n",
    "        return torch.optim.Adam(self.parameters(), lr=self.learning_rate)\n",
    "    \n",
    "    def validation_step(self, batch, batch_idx):\n",
    "        x, y = batch\n",
    "        logits = F.softmax(self(x))\n",
    "        loss = F.cross_entropy(logits, y)\n",
    "        preds = torch.argmax(logits, dim=1)\n",
    "        probs = logits[:, 1]\n",
    "        auc = roc_auc_score(y, probs)\n",
    "        bac = balanced_accuracy_score(y, preds)\n",
    "        aps = average_precision_score(y, probs)\n",
    "        recall = recall_score(y, preds)\n",
    "        precision = precision_score(y, preds)\n",
    "        #self.auc(probs, y)\n",
    "\n",
    "        # Calling self.log will surface up scalars for you in TensorBoard\n",
    "        self.log(\"val_loss\", loss, prog_bar=True)\n",
    "        self.log(\"val_bac\", bac, prog_bar=True)\n",
    "        self.log(\"val_auc\", auc, prog_bar=True)\n",
    "        self.log(\"val_aps\", aps, prog_bar=True)\n",
    "        self.log(\"val_rec\", recall, prog_bar=True)\n",
    "        self.log(\"val_pre\", precision, prog_bar=True)\n",
    "        return loss\n",
    "    \n",
    "    def validation_epoch_end(self, validation_step_outputs):\n",
    "        avg_loss = torch.stack(validation_step_outputs).mean()\n",
    "        #avg_loss = torch.stack([x[\"val_loss\"] for x in outputs]).mean() # Outputs are the values of return for validation\n",
    "        self.logger.experiment.add_scalar('loss', avg_loss, self.current_epoch)\n",
    "    \n",
    "    def test_step(self, batch, batch_idx):\n",
    "        # Here we just reuse the validation_step for testing\n",
    "        return self.validation_step(batch, batch_idx)\n",
    "    \n",
    "    def predict_step(self, batch, batch_idx):\n",
    "        x, y = batch\n",
    "        logits = F.softmax(self(x))\n",
    "        loss = F.cross_entropy(logits, y)\n",
    "        preds = torch.argmax(logits, dim=1)\n",
    "        probs = logits[:, 1]\n",
    "        return preds, probs"
   ]
  },
  {
   "cell_type": "code",
   "execution_count": 8,
   "id": "e460f00b-2416-4b52-8efe-836fece0a61a",
   "metadata": {},
   "outputs": [],
   "source": [
    "model = MaskedModel.load_from_checkpoint(checkpoint_path=\"Temp/BioNet_SMOTE_val_loss.ckpt\")"
   ]
  },
  {
   "cell_type": "code",
   "execution_count": 9,
   "id": "8456c21c-e56c-459d-998b-d6fd92222262",
   "metadata": {},
   "outputs": [
    {
     "name": "stdout",
     "output_type": "stream",
     "text": [
      "Parameter mir2gene.weight, shape torch.Size([11418, 710])\n",
      "Parameter mir2gene.bias, shape torch.Size([11418])\n",
      "Parameter gene_bn.weight, shape torch.Size([11418])\n",
      "Parameter gene_bn.bias, shape torch.Size([11418])\n",
      "Parameter gene2module.weight, shape torch.Size([116, 11418])\n",
      "Parameter gene2module.bias, shape torch.Size([116])\n",
      "Parameter module_bn.weight, shape torch.Size([116])\n",
      "Parameter module_bn.bias, shape torch.Size([116])\n",
      "Parameter module2pathway.weight, shape torch.Size([70, 116])\n",
      "Parameter module2pathway.bias, shape torch.Size([70])\n",
      "Parameter pathway_bn.weight, shape torch.Size([70])\n",
      "Parameter pathway_bn.bias, shape torch.Size([70])\n",
      "Parameter pathway2out.weight, shape torch.Size([2, 70])\n",
      "Parameter pathway2out.bias, shape torch.Size([2])\n",
      "Parameter out_bn.weight, shape torch.Size([2])\n",
      "Parameter out_bn.bias, shape torch.Size([2])\n"
     ]
    }
   ],
   "source": [
    "for name, param in model.named_parameters():\n",
    "    print(f\"Parameter {name}, shape {param.shape}\")"
   ]
  },
  {
   "cell_type": "code",
   "execution_count": 10,
   "id": "64c6a849-da2e-431f-8dde-63b10ec34a94",
   "metadata": {},
   "outputs": [],
   "source": [
    "mir2gene_w = model.mir2gene.weight.data\n",
    "gene2module_w = model.gene2module.weight.data\n",
    "module2pathway_w = model.module2pathway.weight.data\n",
    "pathway2out_w = model.pathway2out.weight.data"
   ]
  },
  {
   "cell_type": "code",
   "execution_count": 11,
   "id": "044f4357-576c-4354-b5e4-2102ef13164e",
   "metadata": {},
   "outputs": [],
   "source": [
    "### Select"
   ]
  },
  {
   "cell_type": "code",
   "execution_count": 12,
   "id": "5b0442f1-50ef-46ac-a70b-0ca8dc3e20d3",
   "metadata": {},
   "outputs": [],
   "source": [
    "X_train_ = pd.read_csv('Breast cancer/E-GEOD-73002.csv', index_col=0)\n",
    "X_train_torch = torch.from_numpy(X_train_[microRNA].values).type(torch.FloatTensor)"
   ]
  },
  {
   "cell_type": "code",
   "execution_count": 13,
   "id": "bfac456b-7e5a-452e-8e17-4ccbe797a48a",
   "metadata": {},
   "outputs": [
    {
     "data": {
      "text/html": [
       "<div>\n",
       "<style scoped>\n",
       "    .dataframe tbody tr th:only-of-type {\n",
       "        vertical-align: middle;\n",
       "    }\n",
       "\n",
       "    .dataframe tbody tr th {\n",
       "        vertical-align: top;\n",
       "    }\n",
       "\n",
       "    .dataframe thead th {\n",
       "        text-align: right;\n",
       "    }\n",
       "</style>\n",
       "<table border=\"1\" class=\"dataframe\">\n",
       "  <thead>\n",
       "    <tr style=\"text-align: right;\">\n",
       "      <th></th>\n",
       "      <th>hsa-let-7a-2-3p</th>\n",
       "      <th>hsa-let-7a-3p</th>\n",
       "      <th>hsa-let-7a-5p</th>\n",
       "      <th>hsa-let-7b-3p</th>\n",
       "      <th>hsa-let-7b-5p</th>\n",
       "      <th>hsa-let-7c-3p</th>\n",
       "      <th>hsa-let-7c-5p</th>\n",
       "      <th>hsa-let-7d-3p</th>\n",
       "      <th>hsa-let-7d-5p</th>\n",
       "      <th>hsa-let-7e-3p</th>\n",
       "      <th>...</th>\n",
       "      <th>hsa-miR-6813-5p</th>\n",
       "      <th>hsa-miR-8071</th>\n",
       "      <th>hsa-miR-6893-5p</th>\n",
       "      <th>hsa-miR-642a-3p</th>\n",
       "      <th>hsa-miR-1199-5p</th>\n",
       "      <th>hsa-miR-3162-5p</th>\n",
       "      <th>hsa-miR-6805-3p</th>\n",
       "      <th>hsa-miR-4467</th>\n",
       "      <th>hsa-miR-6076</th>\n",
       "      <th>Label</th>\n",
       "    </tr>\n",
       "  </thead>\n",
       "  <tbody>\n",
       "    <tr>\n",
       "      <th>GSM1878567</th>\n",
       "      <td>2.721157</td>\n",
       "      <td>0.581391</td>\n",
       "      <td>0.581391</td>\n",
       "      <td>3.284674</td>\n",
       "      <td>0.581391</td>\n",
       "      <td>2.350276</td>\n",
       "      <td>0.581391</td>\n",
       "      <td>2.356790</td>\n",
       "      <td>0.581391</td>\n",
       "      <td>0.581391</td>\n",
       "      <td>...</td>\n",
       "      <td>5.958955</td>\n",
       "      <td>7.592305</td>\n",
       "      <td>8.284014</td>\n",
       "      <td>7.705975</td>\n",
       "      <td>4.332095</td>\n",
       "      <td>6.766729</td>\n",
       "      <td>6.98926</td>\n",
       "      <td>10.266124</td>\n",
       "      <td>7.558272</td>\n",
       "      <td>0</td>\n",
       "    </tr>\n",
       "    <tr>\n",
       "      <th>GSM1877697</th>\n",
       "      <td>1.790763</td>\n",
       "      <td>0.898406</td>\n",
       "      <td>0.898406</td>\n",
       "      <td>2.508507</td>\n",
       "      <td>0.898406</td>\n",
       "      <td>1.153854</td>\n",
       "      <td>0.898406</td>\n",
       "      <td>2.249823</td>\n",
       "      <td>0.898406</td>\n",
       "      <td>0.898406</td>\n",
       "      <td>...</td>\n",
       "      <td>5.758528</td>\n",
       "      <td>8.276442</td>\n",
       "      <td>7.676088</td>\n",
       "      <td>7.763261</td>\n",
       "      <td>4.790422</td>\n",
       "      <td>7.435764</td>\n",
       "      <td>6.57151</td>\n",
       "      <td>10.160213</td>\n",
       "      <td>8.755441</td>\n",
       "      <td>0</td>\n",
       "    </tr>\n",
       "  </tbody>\n",
       "</table>\n",
       "<p>2 rows × 2541 columns</p>\n",
       "</div>"
      ],
      "text/plain": [
       "            hsa-let-7a-2-3p  hsa-let-7a-3p  hsa-let-7a-5p  hsa-let-7b-3p  \\\n",
       "GSM1878567         2.721157       0.581391       0.581391       3.284674   \n",
       "GSM1877697         1.790763       0.898406       0.898406       2.508507   \n",
       "\n",
       "            hsa-let-7b-5p  hsa-let-7c-3p  hsa-let-7c-5p  hsa-let-7d-3p  \\\n",
       "GSM1878567       0.581391       2.350276       0.581391       2.356790   \n",
       "GSM1877697       0.898406       1.153854       0.898406       2.249823   \n",
       "\n",
       "            hsa-let-7d-5p  hsa-let-7e-3p  ...  hsa-miR-6813-5p  hsa-miR-8071  \\\n",
       "GSM1878567       0.581391       0.581391  ...         5.958955      7.592305   \n",
       "GSM1877697       0.898406       0.898406  ...         5.758528      8.276442   \n",
       "\n",
       "            hsa-miR-6893-5p  hsa-miR-642a-3p  hsa-miR-1199-5p  \\\n",
       "GSM1878567         8.284014         7.705975         4.332095   \n",
       "GSM1877697         7.676088         7.763261         4.790422   \n",
       "\n",
       "            hsa-miR-3162-5p  hsa-miR-6805-3p  hsa-miR-4467  hsa-miR-6076  \\\n",
       "GSM1878567         6.766729          6.98926     10.266124      7.558272   \n",
       "GSM1877697         7.435764          6.57151     10.160213      8.755441   \n",
       "\n",
       "            Label  \n",
       "GSM1878567      0  \n",
       "GSM1877697      0  \n",
       "\n",
       "[2 rows x 2541 columns]"
      ]
     },
     "execution_count": 13,
     "metadata": {},
     "output_type": "execute_result"
    }
   ],
   "source": [
    "X_test = pd.read_csv('20220610_Results/1. X_test.csv', index_col=0)\n",
    "y_test = pd.read_csv('20220610_Results/1. y_test.csv', index_col=0)\n",
    "X_train_ = X_test.copy()\n",
    "X_train_['Label'] = y_test['Label']\n",
    "X_train_.head(2)\n",
    "X_train_torch = torch.from_numpy(X_test[microRNA].values).type(torch.FloatTensor)"
   ]
  },
  {
   "cell_type": "code",
   "execution_count": 14,
   "id": "3f93d529-4697-4301-bfa7-8554ed97ddae",
   "metadata": {},
   "outputs": [],
   "source": [
    "gene_x = model.mir2gene(X_train_torch)\n",
    "gene_x = model.gene_active(gene_x)\n",
    "gene_x = model.gene_bn(gene_x)\n",
    "gene_exp = gene_x\n",
    "\n",
    "module_x = model.gene2module(gene_x)\n",
    "module_x = model.module_active(module_x)\n",
    "module_x = model.module_bn(module_x)\n",
    "module_exp = module_x\n",
    "        \n",
    "pathway_x = model.module2pathway(module_x)\n",
    "pathway_x = model.pathway_active(pathway_x)\n",
    "pathway_x = model.pathway_bn(pathway_x)\n",
    "pathway_exp = pathway_x"
   ]
  },
  {
   "cell_type": "code",
   "execution_count": 15,
   "id": "cf3fe955-f665-4f42-a384-010e545ecab3",
   "metadata": {},
   "outputs": [],
   "source": [
    "gene_exp_df = pd.DataFrame(np.array(gene_exp.detach().numpy()), index=X_train_.index, columns=GENE_LIST)\n",
    "module_exp_df = pd.DataFrame(np.array(module_exp.detach().numpy()), index=X_train_.index, columns=MODULE_LIST)\n",
    "pathway_exp_df = pd.DataFrame(np.array(pathway_exp.detach().numpy()), index=X_train_.index, columns=PATHWAY_LIST)"
   ]
  },
  {
   "cell_type": "code",
   "execution_count": 16,
   "id": "c1825643-c1b4-491b-b98b-311debad6181",
   "metadata": {},
   "outputs": [],
   "source": [
    "import cloudpickle as pickle\n",
    "pickle.dump([X_train_, gene_exp_df, module_exp_df, pathway_exp_df, mir2gene_w, gene2module_w,\n",
    "             module2pathway_w, pathway2out_w], open('20220610_Results/8. Exp_and_Weight_df_test.pkl', 'wb'))"
   ]
  },
  {
   "cell_type": "code",
   "execution_count": 17,
   "id": "87159a0f-1c4a-4f9b-a27c-3ed7bf894b36",
   "metadata": {},
   "outputs": [
    {
     "data": {
      "text/html": [
       "<div>\n",
       "<style scoped>\n",
       "    .dataframe tbody tr th:only-of-type {\n",
       "        vertical-align: middle;\n",
       "    }\n",
       "\n",
       "    .dataframe tbody tr th {\n",
       "        vertical-align: top;\n",
       "    }\n",
       "\n",
       "    .dataframe thead th {\n",
       "        text-align: right;\n",
       "    }\n",
       "</style>\n",
       "<table border=\"1\" class=\"dataframe\">\n",
       "  <thead>\n",
       "    <tr style=\"text-align: right;\">\n",
       "      <th></th>\n",
       "      <th>map00310</th>\n",
       "      <th>map00790</th>\n",
       "      <th>map00561</th>\n",
       "      <th>map01212</th>\n",
       "      <th>map00480</th>\n",
       "      <th>map05016</th>\n",
       "      <th>map00563</th>\n",
       "      <th>map00601</th>\n",
       "      <th>map00564</th>\n",
       "      <th>map00140</th>\n",
       "      <th>...</th>\n",
       "      <th>map00190</th>\n",
       "      <th>map00020</th>\n",
       "      <th>map00061</th>\n",
       "      <th>map00130</th>\n",
       "      <th>map00532</th>\n",
       "      <th>map00280</th>\n",
       "      <th>map00680</th>\n",
       "      <th>map00515</th>\n",
       "      <th>map00350</th>\n",
       "      <th>map00330</th>\n",
       "    </tr>\n",
       "  </thead>\n",
       "  <tbody>\n",
       "    <tr>\n",
       "      <th>GSM1878567</th>\n",
       "      <td>0.000309</td>\n",
       "      <td>-0.385335</td>\n",
       "      <td>-1.375007</td>\n",
       "      <td>2.678093</td>\n",
       "      <td>0.060196</td>\n",
       "      <td>0.224582</td>\n",
       "      <td>-1.189325</td>\n",
       "      <td>0.350027</td>\n",
       "      <td>0.750644</td>\n",
       "      <td>-1.075417</td>\n",
       "      <td>...</td>\n",
       "      <td>-2.218088</td>\n",
       "      <td>-1.618479</td>\n",
       "      <td>0.227646</td>\n",
       "      <td>-0.15073</td>\n",
       "      <td>1.067602</td>\n",
       "      <td>2.402193</td>\n",
       "      <td>-0.376911</td>\n",
       "      <td>0.07354</td>\n",
       "      <td>1.383809</td>\n",
       "      <td>-0.716437</td>\n",
       "    </tr>\n",
       "    <tr>\n",
       "      <th>GSM1877697</th>\n",
       "      <td>0.000309</td>\n",
       "      <td>-0.385335</td>\n",
       "      <td>-0.916085</td>\n",
       "      <td>1.908162</td>\n",
       "      <td>0.060196</td>\n",
       "      <td>0.224582</td>\n",
       "      <td>-1.189325</td>\n",
       "      <td>0.350027</td>\n",
       "      <td>0.568939</td>\n",
       "      <td>-1.075417</td>\n",
       "      <td>...</td>\n",
       "      <td>-2.497192</td>\n",
       "      <td>-1.618479</td>\n",
       "      <td>0.227646</td>\n",
       "      <td>-0.15073</td>\n",
       "      <td>1.055862</td>\n",
       "      <td>-0.238823</td>\n",
       "      <td>-0.220332</td>\n",
       "      <td>0.07354</td>\n",
       "      <td>1.217697</td>\n",
       "      <td>-0.716437</td>\n",
       "    </tr>\n",
       "  </tbody>\n",
       "</table>\n",
       "<p>2 rows × 70 columns</p>\n",
       "</div>"
      ],
      "text/plain": [
       "            map00310  map00790  map00561  map01212  map00480  map05016  \\\n",
       "GSM1878567  0.000309 -0.385335 -1.375007  2.678093  0.060196  0.224582   \n",
       "GSM1877697  0.000309 -0.385335 -0.916085  1.908162  0.060196  0.224582   \n",
       "\n",
       "            map00563  map00601  map00564  map00140  ...  map00190  map00020  \\\n",
       "GSM1878567 -1.189325  0.350027  0.750644 -1.075417  ... -2.218088 -1.618479   \n",
       "GSM1877697 -1.189325  0.350027  0.568939 -1.075417  ... -2.497192 -1.618479   \n",
       "\n",
       "            map00061  map00130  map00532  map00280  map00680  map00515  \\\n",
       "GSM1878567  0.227646  -0.15073  1.067602  2.402193 -0.376911   0.07354   \n",
       "GSM1877697  0.227646  -0.15073  1.055862 -0.238823 -0.220332   0.07354   \n",
       "\n",
       "            map00350  map00330  \n",
       "GSM1878567  1.383809 -0.716437  \n",
       "GSM1877697  1.217697 -0.716437  \n",
       "\n",
       "[2 rows x 70 columns]"
      ]
     },
     "execution_count": 17,
     "metadata": {},
     "output_type": "execute_result"
    }
   ],
   "source": [
    "pathway_exp_df.head(2)"
   ]
  },
  {
   "cell_type": "code",
   "execution_count": null,
   "id": "2c71bd4b-5aec-42ea-a272-f12a0b4c60e7",
   "metadata": {},
   "outputs": [],
   "source": []
  },
  {
   "cell_type": "code",
   "execution_count": 18,
   "id": "6cace3b3-fd60-4ca7-bd4f-008fc3f2b627",
   "metadata": {},
   "outputs": [],
   "source": [
    "## Output\n",
    "out_x = model.pathway2out(pathway_x)\n",
    "out_x = model.out_bn(out_x)"
   ]
  },
  {
   "cell_type": "code",
   "execution_count": 20,
   "id": "dbee5dd9-ac08-43bd-8c92-56e59b2d6cca",
   "metadata": {},
   "outputs": [],
   "source": [
    "logits = F.softmax(out_x)\n",
    "preds = torch.argmax(logits, dim=1)\n",
    "probs = logits[:, 1]"
   ]
  },
  {
   "cell_type": "code",
   "execution_count": 23,
   "id": "1cce5da0-f186-4ee6-8ebe-830cdb9d6e29",
   "metadata": {},
   "outputs": [
    {
     "data": {
      "text/plain": [
       "tensor([0, 0, 0, 1, 0, 0, 0, 0, 0, 0])"
      ]
     },
     "execution_count": 23,
     "metadata": {},
     "output_type": "execute_result"
    }
   ],
   "source": [
    "preds[:10]"
   ]
  },
  {
   "cell_type": "code",
   "execution_count": 22,
   "id": "c8b486e2-1010-472d-986b-40d715dad5c1",
   "metadata": {},
   "outputs": [
    {
     "data": {
      "text/plain": [
       "tensor([0.0044, 0.0067, 0.0125,  ..., 0.0432, 0.1396, 0.9974],\n",
       "       grad_fn=<SelectBackward0>)"
      ]
     },
     "execution_count": 22,
     "metadata": {},
     "output_type": "execute_result"
    }
   ],
   "source": [
    "probs"
   ]
  },
  {
   "cell_type": "code",
   "execution_count": null,
   "id": "0506d39d-03a0-433b-aa45-7497e98cd2e3",
   "metadata": {},
   "outputs": [],
   "source": []
  },
  {
   "cell_type": "code",
   "execution_count": null,
   "id": "a18349fc-2972-4042-a11f-d2b3dfbb07e7",
   "metadata": {},
   "outputs": [],
   "source": []
  }
 ],
 "metadata": {
  "kernelspec": {
   "display_name": "Python 3 (ipykernel)",
   "language": "python",
   "name": "python3"
  },
  "language_info": {
   "codemirror_mode": {
    "name": "ipython",
    "version": 3
   },
   "file_extension": ".py",
   "mimetype": "text/x-python",
   "name": "python",
   "nbconvert_exporter": "python",
   "pygments_lexer": "ipython3",
   "version": "3.9.13"
  }
 },
 "nbformat": 4,
 "nbformat_minor": 5
}
