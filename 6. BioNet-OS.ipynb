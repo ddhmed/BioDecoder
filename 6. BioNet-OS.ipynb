{
 "cells": [
  {
   "cell_type": "code",
   "execution_count": 1,
   "id": "da103003-0a84-4cc7-a129-d17c7246df8f",
   "metadata": {},
   "outputs": [],
   "source": [
    "### General analysis package\n",
    "import os\n",
    "import time\n",
    "import random\n",
    "import numpy as np\n",
    "import pandas as pd\n",
    "import scipy.stats as stats\n",
    "from scipy.stats import norm, pearsonr, spearmanr\n",
    "from scipy.spatial import distance\n",
    "### Drawing package\n",
    "import matplotlib.pyplot as plt\n",
    "from matplotlib import gridspec\n",
    "import matplotlib.lines as mlines\n",
    "from matplotlib.font_manager import FontProperties\n",
    "#import seaborn as sns\n",
    "import matplotlib as mpl\n",
    "mpl.rcParams['pdf.fonttype'] = 42 # Output editable PDF text\n",
    "### else\n",
    "#import cloudpickle as pickle\n",
    "import warnings\n",
    "warnings.filterwarnings(\"ignore\") # Error alert\n",
    "from IPython.core.interactiveshell import InteractiveShell\n",
    "InteractiveShell.ast_node_interactivity = 'all' #last_expr"
   ]
  },
  {
   "cell_type": "code",
   "execution_count": 2,
   "id": "eab2c8ba-7db6-41f4-ae78-e99b43fe03c1",
   "metadata": {},
   "outputs": [
    {
     "name": "stderr",
     "output_type": "stream",
     "text": [
      "Global seed set to 42\n"
     ]
    },
    {
     "data": {
      "text/plain": [
       "42"
      ]
     },
     "execution_count": 2,
     "metadata": {},
     "output_type": "execute_result"
    },
    {
     "name": "stdout",
     "output_type": "stream",
     "text": [
      "Using torch 1.10.1\n"
     ]
    }
   ],
   "source": [
    "from sklearn import model_selection\n",
    "from sklearn.preprocessing import StandardScaler, Normalizer\n",
    "from sklearn.ensemble import RandomForestClassifier\n",
    "from sklearn.linear_model import LogisticRegression\n",
    "from sklearn.svm import SVC\n",
    "from sklearn.metrics import roc_auc_score, accuracy_score\n",
    "from sklearn.model_selection import train_test_split, StratifiedShuffleSplit\n",
    "from sklearn.metrics import accuracy_score, balanced_accuracy_score, recall_score, precision_score, roc_auc_score, average_precision_score\n",
    "\n",
    "import math\n",
    "import torch\n",
    "from torch import nn\n",
    "import torch.nn.functional as F\n",
    "import torch.utils.data as TorchData\n",
    "from torchmetrics import Accuracy\n",
    "from pytorch_lightning import LightningModule, Trainer, seed_everything\n",
    "from pytorch_lightning.callbacks.early_stopping import EarlyStopping\n",
    "from pytorch_lightning.loggers import TensorBoardLogger\n",
    "\n",
    "from imblearn.over_sampling import RandomOverSampler, SMOTE\n",
    "\n",
    "import warnings\n",
    "warnings.filterwarnings('ignore')\n",
    "\n",
    "SEED = 42\n",
    "seed_everything(SEED, workers=True)\n",
    "\n",
    "print(\"Using torch\", torch.__version__)"
   ]
  },
  {
   "cell_type": "markdown",
   "id": "9c53c835-571c-4c48-aa66-08316fc9fa1a",
   "metadata": {},
   "source": [
    "# 1. Knowledge network information（Mask）"
   ]
  },
  {
   "cell_type": "code",
   "execution_count": 3,
   "id": "5a6cdccd-ebb5-485e-89af-d5f4b01c4d80",
   "metadata": {},
   "outputs": [],
   "source": [
    "microRNA = pd.read_csv('20220610_Results/1. diff_microRNA(FC2_FDR0.05).csv', index_col=0)['ID']"
   ]
  },
  {
   "cell_type": "raw",
   "id": "fb1c57c7-bde4-451a-b7ad-b6901ceadcc5",
   "metadata": {
    "jupyter": {
     "source_hidden": true
    },
    "tags": []
   },
   "source": [
    "path = 'Breast cancer/'\n",
    "### Target Gene\n",
    "tar_data = pd.read_csv(path+'Target/hsa_MTI.csv')\n",
    "mir2gene = {}\n",
    "for i in tar_data.index:\n",
    "    mir = str(tar_data.loc[i, 'miRNA']).strip()\n",
    "    gene = str(tar_data.loc[i, 'Target Gene (Entrez Gene ID)']).strip()\n",
    "    mir2gene[mir] = mir2gene.get(mir, set())\n",
    "    mir2gene[mir].add(gene)\n",
    "gene_set = set()\n",
    "for mir in microRNA:\n",
    "    gene_set.update(mir2gene.get(mir, set()))\n",
    "GENE_LIST = list(gene_set)\n",
    "GENE_MASK = []\n",
    "for mir in microRNA:\n",
    "    genes = mir2gene.get(mir, set())\n",
    "    GENE_MASK.append([1 if g in genes else 0 for g in GENE_LIST])\n",
    "GENE_MASK = torch.tensor(np.array(GENE_MASK).T, dtype=torch.float)\n",
    "### Module\n",
    "module_data = pd.read_csv(path+'KEGG/gene2module.txt', sep='\\t')\n",
    "gene2module = {}\n",
    "for i in module_data.index:\n",
    "    mid = str(module_data.loc[i, 'Module']).split('hsa_')[1].strip()\n",
    "    gene = str(module_data.loc[i, 'gene']).split('hsa:')[1].strip()\n",
    "    gene2module[gene] = gene2module.get(gene, set())\n",
    "    gene2module[gene].add(mid)\n",
    "module_set = set()\n",
    "for gene in GENE_LIST:\n",
    "    module_set.update(gene2module.get(gene, set()))\n",
    "MODULE_LIST = list(module_set)\n",
    "MODULE_MASK = []\n",
    "for gene in GENE_LIST:\n",
    "    modules = gene2module.get(gene, set())\n",
    "    MODULE_MASK.append([1 if m in modules else 0 for m in MODULE_LIST])\n",
    "MODULE_MASK = torch.tensor(np.array(MODULE_MASK).T, dtype=torch.float)\n",
    "### Pathway\n",
    "pathway_data = pd.read_csv(path+'KEGG/module2pathway.txt', sep='\\t')\n",
    "module2pathway = {}\n",
    "for i in pathway_data.index:\n",
    "    pathway = str(pathway_data.loc[i, 'Pathway']).split('path:')[1].strip()\n",
    "    module = str(pathway_data.loc[i, 'Module']).split('md:')[1].strip()\n",
    "    module2pathway[module] = module2pathway.get(module, set())\n",
    "    module2pathway[module].add(pathway)\n",
    "pathway_set = set()\n",
    "for module in MODULE_LIST:\n",
    "    pathway_set.update(module2pathway.get(module, set()))\n",
    "PATHWAY_LIST = list(pathway_set)\n",
    "\n",
    "PATHWAY_MASK = []\n",
    "for module in MODULE_LIST:\n",
    "    pathways = module2pathway.get(module, set())\n",
    "    PATHWAY_MASK.append([1 if p in pathways else 0 for p in PATHWAY_LIST])\n",
    "PATHWAY_MASK = torch.tensor(np.array(PATHWAY_MASK).T, dtype=torch.float)"
   ]
  },
  {
   "cell_type": "raw",
   "id": "7f645622-5fd8-4791-9980-75a0dd29eddf",
   "metadata": {
    "jupyter": {
     "source_hidden": true
    },
    "tags": []
   },
   "source": [
    "import cloudpickle as pickle\n",
    "pickle.dump([mir2gene, GENE_LIST, GENE_MASK, gene2module, MODULE_LIST, MODULE_MASK,\n",
    "             module2pathway, PATHWAY_LIST, PATHWAY_MASK], open('20220610_Results/6. KEGG_MappingData.pkl', 'wb'))"
   ]
  },
  {
   "cell_type": "code",
   "execution_count": 4,
   "id": "8671f0d5-e6c1-4df5-92fe-ee1964dacf0a",
   "metadata": {},
   "outputs": [],
   "source": [
    "import cloudpickle as pickle\n",
    "[mir2gene, GENE_LIST, GENE_MASK, gene2module, MODULE_LIST, MODULE_MASK,\n",
    " module2pathway, PATHWAY_LIST, PATHWAY_MASK] = pickle.load(open('20220610_Results/6. KEGG_MappingData.pkl', 'rb'))"
   ]
  },
  {
   "cell_type": "markdown",
   "id": "218eae86-e3ae-455d-83cd-30d675865eed",
   "metadata": {},
   "source": [
    "# 2. Constructing neural network model based on knowledge information"
   ]
  },
  {
   "cell_type": "code",
   "execution_count": 5,
   "id": "cef0c244-533e-42ea-a3ae-6595a998fa1a",
   "metadata": {
    "tags": []
   },
   "outputs": [],
   "source": [
    "class MaskedModel(LightningModule):\n",
    "    def __init__(self, mirN, geneN, gene_mask, moduleN, module_mask, pathwayN, pathway_mask, learning_rate):\n",
    "        super(MaskedModel, self).__init__()\n",
    "        self.save_hyperparameters()\n",
    "        self.learning_rate = learning_rate\n",
    "        # microRNA 2 Gene\n",
    "        self.mir2gene = nn.Linear(mirN, geneN)\n",
    "        self.mir2gene.weight.data = self.mir2gene.weight * gene_mask\n",
    "        self.gene_mask = gene_mask\n",
    "        self.gene_active = nn.ReLU() # ReLU Tanh\n",
    "        self.gene_bn = nn.BatchNorm1d(geneN, eps=1e-05, momentum=0.5, affine=True)\n",
    "        self.gene_dropout = nn.Dropout(p=0.8)\n",
    "        \n",
    "        ## Gene 2 Module\n",
    "        self.gene2module = nn.Linear(geneN, moduleN)\n",
    "        self.gene2module.weight.data = self.gene2module.weight * module_mask\n",
    "        self.module_mask = module_mask\n",
    "        self.module_active = nn.ReLU()\n",
    "        self.module_bn = nn.BatchNorm1d(moduleN, eps=1e-05, momentum=0.5, affine=True)\n",
    "        self.module_dropout = nn.Dropout(p=0.5)\n",
    "        \n",
    "        ## Module 2 Pathway\n",
    "        self.module2pathway = nn.Linear(moduleN, pathwayN)\n",
    "        self.module2pathway.weight.data = self.module2pathway.weight * pathway_mask\n",
    "        self.pathway_mask = pathway_mask\n",
    "        self.pathway_active = nn.ReLU()\n",
    "        self.pathway_bn = nn.BatchNorm1d(pathwayN, eps=1e-05, momentum=0.5, affine=True)\n",
    "        self.pathway_dropout = nn.Dropout(p=0.2)\n",
    "        \n",
    "        ## Output\n",
    "        self.pathway2out = nn.Linear(pathwayN, 2)\n",
    "        self.out_bn = nn.BatchNorm1d(2, eps=1e-05, momentum=0.5, affine=True)\n",
    "        #self.sigmoid = nn.Sigmoid()\n",
    "        \n",
    "        # Result save\n",
    "        self.gene_result = None\n",
    "        self.module_result = None\n",
    "        self.pathway_result = None\n",
    "    \n",
    "    def forward(self, x):\n",
    "        ## microRNA 2 Gene\n",
    "        #print(self.mir2gene.weight.data.shape, self.mir2gene.weight.shape, self.gene_mask.shape)\n",
    "        self.mir2gene.weight.data = self.mir2gene.weight * self.gene_mask\n",
    "        #print(self.mir2gene.weight.data.shape)\n",
    "        gene_x = self.mir2gene(x)\n",
    "        gene_x = self.gene_active(gene_x)\n",
    "        gene_x = self.gene_bn(gene_x)\n",
    "        gene_x = self.gene_dropout(gene_x)\n",
    "        self.gene_result = gene_x # save result\n",
    "        \n",
    "        ## Gene 2 Module\n",
    "        self.gene2module.weight.data = self.gene2module.weight * self.module_mask\n",
    "        module_x = self.gene2module(gene_x)\n",
    "        module_x = self.module_active(module_x)\n",
    "        module_x = self.module_bn(module_x)\n",
    "        module_x = self.module_dropout(module_x)\n",
    "        self.module_result = module_x # save result\n",
    "        \n",
    "        ## Module 2 Pathway\n",
    "        self.module2pathway.weight.data = self.module2pathway.weight * self.pathway_mask\n",
    "        pathway_x = self.module2pathway(module_x)\n",
    "        pathway_x = self.pathway_active(pathway_x)\n",
    "        pathway_x = self.pathway_bn(pathway_x)\n",
    "        pathway_x = self.pathway_dropout(pathway_x)\n",
    "        self.pathway_result = pathway_x # save result\n",
    "        \n",
    "        ## Output\n",
    "        out_x = self.pathway2out(pathway_x)\n",
    "        out_x = self.out_bn(out_x)\n",
    "        #out_x = self.sigmoid(out_x)\n",
    "        return out_x\n",
    "    \n",
    "    def training_step(self, batch, batch_nb):\n",
    "        x, y = batch\n",
    "        loss = F.cross_entropy(self.forward(x), y)\n",
    "        self.log(\"train_loss\", loss, prog_bar=True)\n",
    "        return loss\n",
    "    \n",
    "    def configure_optimizers(self):\n",
    "        return torch.optim.Adam(self.parameters(), lr=self.learning_rate)\n",
    "    \n",
    "    def validation_step(self, batch, batch_idx):\n",
    "        x, y = batch\n",
    "        logits = F.softmax(self(x))\n",
    "        loss = F.cross_entropy(logits, y)\n",
    "        preds = torch.argmax(logits, dim=1)\n",
    "        probs = logits[:, 1]\n",
    "        auc = roc_auc_score(y, probs)\n",
    "        bac = balanced_accuracy_score(y, preds)\n",
    "        aps = average_precision_score(y, probs)\n",
    "        recall = recall_score(y, preds)\n",
    "        precision = precision_score(y, preds)\n",
    "        #self.auc(probs, y)\n",
    "\n",
    "        # Calling self.log will surface up scalars for you in TensorBoard\n",
    "        self.log(\"val_loss\", loss, prog_bar=True)\n",
    "        self.log(\"val_bac\", bac, prog_bar=True)\n",
    "        self.log(\"val_auc\", auc, prog_bar=True)\n",
    "        self.log(\"val_aps\", aps, prog_bar=True)\n",
    "        self.log(\"val_rec\", recall, prog_bar=True)\n",
    "        self.log(\"val_pre\", precision, prog_bar=True)\n",
    "        return loss\n",
    "    \n",
    "    def validation_epoch_end(self, validation_step_outputs):\n",
    "        avg_loss = torch.stack(validation_step_outputs).mean()\n",
    "        #avg_loss = torch.stack([x[\"val_loss\"] for x in outputs]).mean() # Outputs are the values of return for validation\n",
    "        self.logger.experiment.add_scalar('loss', avg_loss, self.current_epoch)\n",
    "    \n",
    "    def test_step(self, batch, batch_idx):\n",
    "        # Here we just reuse the validation_step for testing\n",
    "        return self.validation_step(batch, batch_idx)\n",
    "    \n",
    "    def predict_step(self, batch, batch_idx):\n",
    "        x, y = batch\n",
    "        logits = F.softmax(self(x))\n",
    "        loss = F.cross_entropy(logits, y)\n",
    "        preds = torch.argmax(logits, dim=1)\n",
    "        probs = logits[:, 1]\n",
    "        return preds, probs\n",
    "    "
   ]
  },
  {
   "cell_type": "markdown",
   "id": "8cdd7c5f-c72f-43f7-98cd-2b5751bc005f",
   "metadata": {},
   "source": [
    "# 3. Model Initialization"
   ]
  },
  {
   "cell_type": "code",
   "execution_count": 8,
   "id": "479d1b3b-4f91-4ecb-8179-69394e1b8aa0",
   "metadata": {},
   "outputs": [
    {
     "name": "stdout",
     "output_type": "stream",
     "text": [
      "710 11418 116 70\n"
     ]
    }
   ],
   "source": [
    "mirN = len(microRNA)\n",
    "geneN = len(GENE_LIST)\n",
    "moduleN = len(MODULE_LIST)\n",
    "pathwayN = len(PATHWAY_LIST)\n",
    "print(mirN, geneN, moduleN, pathwayN)\n",
    "GENE_No_MASK = torch.ones_like(GENE_MASK)\n",
    "MODULE_No_MASK = torch.ones_like(MODULE_MASK)\n",
    "PATHWAY_No_MASK = torch.ones_like(PATHWAY_MASK)\n",
    "model = MaskedModel(mirN, geneN, GENE_MASK, moduleN, MODULE_MASK, pathwayN, PATHWAY_MASK, 0.01)"
   ]
  },
  {
   "cell_type": "code",
   "execution_count": 9,
   "id": "8e90412d-a3b3-4ee9-a6ab-1760780eba14",
   "metadata": {
    "tags": []
   },
   "outputs": [
    {
     "name": "stdout",
     "output_type": "stream",
     "text": [
      "MaskedModel(\n",
      "  (mir2gene): Linear(in_features=710, out_features=11418, bias=True)\n",
      "  (gene_active): ReLU()\n",
      "  (gene_bn): BatchNorm1d(11418, eps=1e-05, momentum=0.5, affine=True, track_running_stats=True)\n",
      "  (gene_dropout): Dropout(p=0.8, inplace=False)\n",
      "  (gene2module): Linear(in_features=11418, out_features=116, bias=True)\n",
      "  (module_active): ReLU()\n",
      "  (module_bn): BatchNorm1d(116, eps=1e-05, momentum=0.5, affine=True, track_running_stats=True)\n",
      "  (module_dropout): Dropout(p=0.5, inplace=False)\n",
      "  (module2pathway): Linear(in_features=116, out_features=70, bias=True)\n",
      "  (pathway_active): ReLU()\n",
      "  (pathway_bn): BatchNorm1d(70, eps=1e-05, momentum=0.5, affine=True, track_running_stats=True)\n",
      "  (pathway_dropout): Dropout(p=0.2, inplace=False)\n",
      "  (pathway2out): Linear(in_features=70, out_features=2, bias=True)\n",
      "  (out_bn): BatchNorm1d(2, eps=1e-05, momentum=0.5, affine=True, track_running_stats=True)\n",
      ")\n"
     ]
    }
   ],
   "source": [
    "print(model)"
   ]
  },
  {
   "cell_type": "code",
   "execution_count": 10,
   "id": "e44b5f2d-bee5-452a-86d4-b55960ddc47b",
   "metadata": {
    "scrolled": true,
    "tags": []
   },
   "outputs": [
    {
     "name": "stdout",
     "output_type": "stream",
     "text": [
      "Parameter mir2gene.weight, shape torch.Size([11418, 710])\n",
      "Parameter mir2gene.bias, shape torch.Size([11418])\n",
      "Parameter gene_bn.weight, shape torch.Size([11418])\n",
      "Parameter gene_bn.bias, shape torch.Size([11418])\n",
      "Parameter gene2module.weight, shape torch.Size([116, 11418])\n",
      "Parameter gene2module.bias, shape torch.Size([116])\n",
      "Parameter module_bn.weight, shape torch.Size([116])\n",
      "Parameter module_bn.bias, shape torch.Size([116])\n",
      "Parameter module2pathway.weight, shape torch.Size([70, 116])\n",
      "Parameter module2pathway.bias, shape torch.Size([70])\n",
      "Parameter pathway_bn.weight, shape torch.Size([70])\n",
      "Parameter pathway_bn.bias, shape torch.Size([70])\n",
      "Parameter pathway2out.weight, shape torch.Size([2, 70])\n",
      "Parameter pathway2out.bias, shape torch.Size([2])\n",
      "Parameter out_bn.weight, shape torch.Size([2])\n",
      "Parameter out_bn.bias, shape torch.Size([2])\n"
     ]
    }
   ],
   "source": [
    "for name, param in model.named_parameters():\n",
    "    print(f\"Parameter {name}, shape {param.shape}\")"
   ]
  },
  {
   "cell_type": "markdown",
   "id": "51a24536-38cb-45c8-a7df-107d758e414e",
   "metadata": {},
   "source": [
    "# 4. Data import"
   ]
  },
  {
   "cell_type": "code",
   "execution_count": 6,
   "id": "ad87cac9-9616-4b17-8014-2a205ca0c635",
   "metadata": {},
   "outputs": [],
   "source": [
    "X_train = pd.read_csv('20220610_Results/1. X_train_SMOTE.csv', index_col=0)\n",
    "X_test = pd.read_csv('20220610_Results/1. X_test.csv', index_col=0)\n",
    "y_train = pd.read_csv('20220610_Results/1. y_train_SMOTE.csv', index_col=0)\n",
    "y_test = pd.read_csv('20220610_Results/1. y_test.csv', index_col=0)\n",
    "\n",
    "cv = model_selection.StratifiedShuffleSplit(n_splits=2, test_size=.4, random_state=SEED)\n",
    "X = X_train.copy()\n",
    "y = y_train.copy()\n",
    "for train_index, val_index in cv.split(X, y):pass\n",
    "X_train, X_valid = X.iloc[train_index, :], X.iloc[val_index, :]\n",
    "y_train, y_valid = y.iloc[train_index], y.iloc[val_index]\n",
    "\n",
    "X_train = torch.from_numpy(X_train[microRNA].values).type(torch.FloatTensor)\n",
    "y_train = torch.from_numpy(y_train['Label'].values).type(torch.LongTensor)\n",
    "X_valid = torch.from_numpy(X_valid[microRNA].values).type(torch.FloatTensor)\n",
    "y_valid = torch.from_numpy(y_valid['Label'].values).type(torch.LongTensor)\n",
    "X_test = torch.from_numpy(X_test[microRNA].values).type(torch.FloatTensor)\n",
    "y_test = torch.from_numpy(y_test['Label'].values).type(torch.LongTensor)"
   ]
  },
  {
   "cell_type": "code",
   "execution_count": 7,
   "id": "b3efade8-0b8c-4c6f-bace-4c7048b3f2fd",
   "metadata": {},
   "outputs": [],
   "source": [
    "train_data_loader = TorchData.DataLoader(dataset=TorchData.TensorDataset(X_train, y_train), \n",
    "                                         batch_size=64, shuffle=True)\n",
    "\n",
    "valid_data_loader = TorchData.DataLoader(dataset=TorchData.TensorDataset(X_valid, y_valid), \n",
    "                                         batch_size=64, shuffle=True)\n",
    "\n",
    "test_data_loader = TorchData.DataLoader(dataset=TorchData.TensorDataset(X_test, y_test), \n",
    "                                        batch_size=X_test.shape[0], shuffle=False)"
   ]
  },
  {
   "cell_type": "markdown",
   "id": "c66f126f-56de-401f-b50c-c87416b86fbd",
   "metadata": {},
   "source": [
    "# 5. Train"
   ]
  },
  {
   "cell_type": "code",
   "execution_count": 13,
   "id": "5d3532df-b8e4-438e-b6c2-097847e38dc4",
   "metadata": {},
   "outputs": [
    {
     "name": "stderr",
     "output_type": "stream",
     "text": [
      "GPU available: False, used: False\n",
      "TPU available: False, using: 0 TPU cores\n",
      "IPU available: False, using: 0 IPUs\n",
      "HPU available: False, using: 0 HPUs\n"
     ]
    }
   ],
   "source": [
    "logger = TensorBoardLogger(\"tb_logs\", name=\"BioNet_SMOTE_val_loss\")\n",
    "# Initialize a trainer\n",
    "trainer = Trainer(\n",
    "    accelerator=\"cpu\",\n",
    "    #gpus=AVAIL_GPUS,\n",
    "    num_processes=1,\n",
    "    min_epochs=100,\n",
    "    max_epochs=500,\n",
    "    #progress_bar_refresh_rate=20,\n",
    "    callbacks=[EarlyStopping(monitor=\"val_loss\", mode='min')], # validate Stops when the AUC in the data is highest\n",
    "    auto_lr_find=True,\n",
    "    stochastic_weight_avg=False,\n",
    "    #deterministic=False, # GPU repeatable\n",
    "    #val_check_interval=100,\n",
    "    logger=logger,\n",
    ")"
   ]
  },
  {
   "cell_type": "code",
   "execution_count": 14,
   "id": "55f98644-6955-48f8-9260-c0bf777ba1cf",
   "metadata": {},
   "outputs": [],
   "source": [
    "# tune the model (batch_size, lr_find)\n",
    "#trainer.tune(model, train_data_loader, valid_data_loader)"
   ]
  },
  {
   "cell_type": "code",
   "execution_count": 15,
   "id": "408e769d-ccee-461b-a05f-c40f5b126ff1",
   "metadata": {
    "scrolled": true,
    "tags": []
   },
   "outputs": [
    {
     "name": "stderr",
     "output_type": "stream",
     "text": [
      "\n",
      "   | Name            | Type        | Params\n",
      "-------------------------------------------------\n",
      "0  | mir2gene        | Linear      | 8.1 M \n",
      "1  | gene_active     | ReLU        | 0     \n",
      "2  | gene_bn         | BatchNorm1d | 22.8 K\n",
      "3  | gene_dropout    | Dropout     | 0     \n",
      "4  | gene2module     | Linear      | 1.3 M \n",
      "5  | module_active   | ReLU        | 0     \n",
      "6  | module_bn       | BatchNorm1d | 232   \n",
      "7  | module_dropout  | Dropout     | 0     \n",
      "8  | module2pathway  | Linear      | 8.2 K \n",
      "9  | pathway_active  | ReLU        | 0     \n",
      "10 | pathway_bn      | BatchNorm1d | 140   \n",
      "11 | pathway_dropout | Dropout     | 0     \n",
      "12 | pathway2out     | Linear      | 142   \n",
      "13 | out_bn          | BatchNorm1d | 4     \n",
      "-------------------------------------------------\n",
      "9.5 M     Trainable params\n",
      "0         Non-trainable params\n",
      "9.5 M     Total params\n",
      "37.897    Total estimated model params size (MB)\n"
     ]
    },
    {
     "data": {
      "application/vnd.jupyter.widget-view+json": {
       "model_id": "",
       "version_major": 2,
       "version_minor": 0
      },
      "text/plain": [
       "Sanity Checking: 0it [00:00, ?it/s]"
      ]
     },
     "metadata": {},
     "output_type": "display_data"
    },
    {
     "data": {
      "application/vnd.jupyter.widget-view+json": {
       "model_id": "f9d4097332f64b3db884fc3c9f86b585",
       "version_major": 2,
       "version_minor": 0
      },
      "text/plain": [
       "Training: 0it [00:00, ?it/s]"
      ]
     },
     "metadata": {},
     "output_type": "display_data"
    },
    {
     "data": {
      "application/vnd.jupyter.widget-view+json": {
       "model_id": "",
       "version_major": 2,
       "version_minor": 0
      },
      "text/plain": [
       "Validation: 0it [00:00, ?it/s]"
      ]
     },
     "metadata": {},
     "output_type": "display_data"
    },
    {
     "data": {
      "application/vnd.jupyter.widget-view+json": {
       "model_id": "",
       "version_major": 2,
       "version_minor": 0
      },
      "text/plain": [
       "Validation: 0it [00:00, ?it/s]"
      ]
     },
     "metadata": {},
     "output_type": "display_data"
    },
    {
     "data": {
      "application/vnd.jupyter.widget-view+json": {
       "model_id": "",
       "version_major": 2,
       "version_minor": 0
      },
      "text/plain": [
       "Validation: 0it [00:00, ?it/s]"
      ]
     },
     "metadata": {},
     "output_type": "display_data"
    },
    {
     "data": {
      "application/vnd.jupyter.widget-view+json": {
       "model_id": "",
       "version_major": 2,
       "version_minor": 0
      },
      "text/plain": [
       "Validation: 0it [00:00, ?it/s]"
      ]
     },
     "metadata": {},
     "output_type": "display_data"
    },
    {
     "data": {
      "application/vnd.jupyter.widget-view+json": {
       "model_id": "",
       "version_major": 2,
       "version_minor": 0
      },
      "text/plain": [
       "Validation: 0it [00:00, ?it/s]"
      ]
     },
     "metadata": {},
     "output_type": "display_data"
    },
    {
     "data": {
      "application/vnd.jupyter.widget-view+json": {
       "model_id": "",
       "version_major": 2,
       "version_minor": 0
      },
      "text/plain": [
       "Validation: 0it [00:00, ?it/s]"
      ]
     },
     "metadata": {},
     "output_type": "display_data"
    },
    {
     "data": {
      "application/vnd.jupyter.widget-view+json": {
       "model_id": "",
       "version_major": 2,
       "version_minor": 0
      },
      "text/plain": [
       "Validation: 0it [00:00, ?it/s]"
      ]
     },
     "metadata": {},
     "output_type": "display_data"
    },
    {
     "data": {
      "application/vnd.jupyter.widget-view+json": {
       "model_id": "",
       "version_major": 2,
       "version_minor": 0
      },
      "text/plain": [
       "Validation: 0it [00:00, ?it/s]"
      ]
     },
     "metadata": {},
     "output_type": "display_data"
    },
    {
     "data": {
      "application/vnd.jupyter.widget-view+json": {
       "model_id": "",
       "version_major": 2,
       "version_minor": 0
      },
      "text/plain": [
       "Validation: 0it [00:00, ?it/s]"
      ]
     },
     "metadata": {},
     "output_type": "display_data"
    },
    {
     "data": {
      "application/vnd.jupyter.widget-view+json": {
       "model_id": "",
       "version_major": 2,
       "version_minor": 0
      },
      "text/plain": [
       "Validation: 0it [00:00, ?it/s]"
      ]
     },
     "metadata": {},
     "output_type": "display_data"
    },
    {
     "data": {
      "application/vnd.jupyter.widget-view+json": {
       "model_id": "",
       "version_major": 2,
       "version_minor": 0
      },
      "text/plain": [
       "Validation: 0it [00:00, ?it/s]"
      ]
     },
     "metadata": {},
     "output_type": "display_data"
    },
    {
     "data": {
      "application/vnd.jupyter.widget-view+json": {
       "model_id": "",
       "version_major": 2,
       "version_minor": 0
      },
      "text/plain": [
       "Validation: 0it [00:00, ?it/s]"
      ]
     },
     "metadata": {},
     "output_type": "display_data"
    },
    {
     "data": {
      "application/vnd.jupyter.widget-view+json": {
       "model_id": "",
       "version_major": 2,
       "version_minor": 0
      },
      "text/plain": [
       "Validation: 0it [00:00, ?it/s]"
      ]
     },
     "metadata": {},
     "output_type": "display_data"
    },
    {
     "data": {
      "application/vnd.jupyter.widget-view+json": {
       "model_id": "",
       "version_major": 2,
       "version_minor": 0
      },
      "text/plain": [
       "Validation: 0it [00:00, ?it/s]"
      ]
     },
     "metadata": {},
     "output_type": "display_data"
    },
    {
     "data": {
      "application/vnd.jupyter.widget-view+json": {
       "model_id": "",
       "version_major": 2,
       "version_minor": 0
      },
      "text/plain": [
       "Validation: 0it [00:00, ?it/s]"
      ]
     },
     "metadata": {},
     "output_type": "display_data"
    },
    {
     "data": {
      "application/vnd.jupyter.widget-view+json": {
       "model_id": "",
       "version_major": 2,
       "version_minor": 0
      },
      "text/plain": [
       "Validation: 0it [00:00, ?it/s]"
      ]
     },
     "metadata": {},
     "output_type": "display_data"
    },
    {
     "data": {
      "application/vnd.jupyter.widget-view+json": {
       "model_id": "",
       "version_major": 2,
       "version_minor": 0
      },
      "text/plain": [
       "Validation: 0it [00:00, ?it/s]"
      ]
     },
     "metadata": {},
     "output_type": "display_data"
    },
    {
     "data": {
      "application/vnd.jupyter.widget-view+json": {
       "model_id": "",
       "version_major": 2,
       "version_minor": 0
      },
      "text/plain": [
       "Validation: 0it [00:00, ?it/s]"
      ]
     },
     "metadata": {},
     "output_type": "display_data"
    },
    {
     "data": {
      "application/vnd.jupyter.widget-view+json": {
       "model_id": "",
       "version_major": 2,
       "version_minor": 0
      },
      "text/plain": [
       "Validation: 0it [00:00, ?it/s]"
      ]
     },
     "metadata": {},
     "output_type": "display_data"
    },
    {
     "data": {
      "application/vnd.jupyter.widget-view+json": {
       "model_id": "",
       "version_major": 2,
       "version_minor": 0
      },
      "text/plain": [
       "Validation: 0it [00:00, ?it/s]"
      ]
     },
     "metadata": {},
     "output_type": "display_data"
    },
    {
     "data": {
      "application/vnd.jupyter.widget-view+json": {
       "model_id": "",
       "version_major": 2,
       "version_minor": 0
      },
      "text/plain": [
       "Validation: 0it [00:00, ?it/s]"
      ]
     },
     "metadata": {},
     "output_type": "display_data"
    },
    {
     "data": {
      "application/vnd.jupyter.widget-view+json": {
       "model_id": "",
       "version_major": 2,
       "version_minor": 0
      },
      "text/plain": [
       "Validation: 0it [00:00, ?it/s]"
      ]
     },
     "metadata": {},
     "output_type": "display_data"
    },
    {
     "name": "stderr",
     "output_type": "stream",
     "text": [
      "Trainer was signaled to stop but required minimum epochs (100) or minimum steps (None) has not been met. Training will continue...\n"
     ]
    },
    {
     "data": {
      "application/vnd.jupyter.widget-view+json": {
       "model_id": "",
       "version_major": 2,
       "version_minor": 0
      },
      "text/plain": [
       "Validation: 0it [00:00, ?it/s]"
      ]
     },
     "metadata": {},
     "output_type": "display_data"
    },
    {
     "name": "stderr",
     "output_type": "stream",
     "text": [
      "Trainer was signaled to stop but required minimum epochs (100) or minimum steps (None) has not been met. Training will continue...\n"
     ]
    },
    {
     "data": {
      "application/vnd.jupyter.widget-view+json": {
       "model_id": "",
       "version_major": 2,
       "version_minor": 0
      },
      "text/plain": [
       "Validation: 0it [00:00, ?it/s]"
      ]
     },
     "metadata": {},
     "output_type": "display_data"
    },
    {
     "name": "stderr",
     "output_type": "stream",
     "text": [
      "Trainer was signaled to stop but required minimum epochs (100) or minimum steps (None) has not been met. Training will continue...\n"
     ]
    },
    {
     "data": {
      "application/vnd.jupyter.widget-view+json": {
       "model_id": "",
       "version_major": 2,
       "version_minor": 0
      },
      "text/plain": [
       "Validation: 0it [00:00, ?it/s]"
      ]
     },
     "metadata": {},
     "output_type": "display_data"
    },
    {
     "data": {
      "application/vnd.jupyter.widget-view+json": {
       "model_id": "",
       "version_major": 2,
       "version_minor": 0
      },
      "text/plain": [
       "Validation: 0it [00:00, ?it/s]"
      ]
     },
     "metadata": {},
     "output_type": "display_data"
    },
    {
     "data": {
      "application/vnd.jupyter.widget-view+json": {
       "model_id": "",
       "version_major": 2,
       "version_minor": 0
      },
      "text/plain": [
       "Validation: 0it [00:00, ?it/s]"
      ]
     },
     "metadata": {},
     "output_type": "display_data"
    },
    {
     "data": {
      "application/vnd.jupyter.widget-view+json": {
       "model_id": "",
       "version_major": 2,
       "version_minor": 0
      },
      "text/plain": [
       "Validation: 0it [00:00, ?it/s]"
      ]
     },
     "metadata": {},
     "output_type": "display_data"
    },
    {
     "name": "stderr",
     "output_type": "stream",
     "text": [
      "Trainer was signaled to stop but required minimum epochs (100) or minimum steps (None) has not been met. Training will continue...\n"
     ]
    },
    {
     "data": {
      "application/vnd.jupyter.widget-view+json": {
       "model_id": "",
       "version_major": 2,
       "version_minor": 0
      },
      "text/plain": [
       "Validation: 0it [00:00, ?it/s]"
      ]
     },
     "metadata": {},
     "output_type": "display_data"
    },
    {
     "name": "stderr",
     "output_type": "stream",
     "text": [
      "Trainer was signaled to stop but required minimum epochs (100) or minimum steps (None) has not been met. Training will continue...\n"
     ]
    },
    {
     "data": {
      "application/vnd.jupyter.widget-view+json": {
       "model_id": "",
       "version_major": 2,
       "version_minor": 0
      },
      "text/plain": [
       "Validation: 0it [00:00, ?it/s]"
      ]
     },
     "metadata": {},
     "output_type": "display_data"
    },
    {
     "name": "stderr",
     "output_type": "stream",
     "text": [
      "Trainer was signaled to stop but required minimum epochs (100) or minimum steps (None) has not been met. Training will continue...\n"
     ]
    },
    {
     "data": {
      "application/vnd.jupyter.widget-view+json": {
       "model_id": "",
       "version_major": 2,
       "version_minor": 0
      },
      "text/plain": [
       "Validation: 0it [00:00, ?it/s]"
      ]
     },
     "metadata": {},
     "output_type": "display_data"
    },
    {
     "name": "stderr",
     "output_type": "stream",
     "text": [
      "Trainer was signaled to stop but required minimum epochs (100) or minimum steps (None) has not been met. Training will continue...\n"
     ]
    },
    {
     "data": {
      "application/vnd.jupyter.widget-view+json": {
       "model_id": "",
       "version_major": 2,
       "version_minor": 0
      },
      "text/plain": [
       "Validation: 0it [00:00, ?it/s]"
      ]
     },
     "metadata": {},
     "output_type": "display_data"
    },
    {
     "name": "stderr",
     "output_type": "stream",
     "text": [
      "Trainer was signaled to stop but required minimum epochs (100) or minimum steps (None) has not been met. Training will continue...\n"
     ]
    },
    {
     "data": {
      "application/vnd.jupyter.widget-view+json": {
       "model_id": "",
       "version_major": 2,
       "version_minor": 0
      },
      "text/plain": [
       "Validation: 0it [00:00, ?it/s]"
      ]
     },
     "metadata": {},
     "output_type": "display_data"
    },
    {
     "name": "stderr",
     "output_type": "stream",
     "text": [
      "Trainer was signaled to stop but required minimum epochs (100) or minimum steps (None) has not been met. Training will continue...\n"
     ]
    },
    {
     "data": {
      "application/vnd.jupyter.widget-view+json": {
       "model_id": "",
       "version_major": 2,
       "version_minor": 0
      },
      "text/plain": [
       "Validation: 0it [00:00, ?it/s]"
      ]
     },
     "metadata": {},
     "output_type": "display_data"
    },
    {
     "data": {
      "application/vnd.jupyter.widget-view+json": {
       "model_id": "",
       "version_major": 2,
       "version_minor": 0
      },
      "text/plain": [
       "Validation: 0it [00:00, ?it/s]"
      ]
     },
     "metadata": {},
     "output_type": "display_data"
    },
    {
     "data": {
      "application/vnd.jupyter.widget-view+json": {
       "model_id": "",
       "version_major": 2,
       "version_minor": 0
      },
      "text/plain": [
       "Validation: 0it [00:00, ?it/s]"
      ]
     },
     "metadata": {},
     "output_type": "display_data"
    },
    {
     "data": {
      "application/vnd.jupyter.widget-view+json": {
       "model_id": "",
       "version_major": 2,
       "version_minor": 0
      },
      "text/plain": [
       "Validation: 0it [00:00, ?it/s]"
      ]
     },
     "metadata": {},
     "output_type": "display_data"
    },
    {
     "data": {
      "application/vnd.jupyter.widget-view+json": {
       "model_id": "",
       "version_major": 2,
       "version_minor": 0
      },
      "text/plain": [
       "Validation: 0it [00:00, ?it/s]"
      ]
     },
     "metadata": {},
     "output_type": "display_data"
    },
    {
     "name": "stderr",
     "output_type": "stream",
     "text": [
      "Trainer was signaled to stop but required minimum epochs (100) or minimum steps (None) has not been met. Training will continue...\n"
     ]
    },
    {
     "data": {
      "application/vnd.jupyter.widget-view+json": {
       "model_id": "",
       "version_major": 2,
       "version_minor": 0
      },
      "text/plain": [
       "Validation: 0it [00:00, ?it/s]"
      ]
     },
     "metadata": {},
     "output_type": "display_data"
    },
    {
     "name": "stderr",
     "output_type": "stream",
     "text": [
      "Trainer was signaled to stop but required minimum epochs (100) or minimum steps (None) has not been met. Training will continue...\n"
     ]
    },
    {
     "data": {
      "application/vnd.jupyter.widget-view+json": {
       "model_id": "",
       "version_major": 2,
       "version_minor": 0
      },
      "text/plain": [
       "Validation: 0it [00:00, ?it/s]"
      ]
     },
     "metadata": {},
     "output_type": "display_data"
    },
    {
     "name": "stderr",
     "output_type": "stream",
     "text": [
      "Trainer was signaled to stop but required minimum epochs (100) or minimum steps (None) has not been met. Training will continue...\n"
     ]
    },
    {
     "data": {
      "application/vnd.jupyter.widget-view+json": {
       "model_id": "",
       "version_major": 2,
       "version_minor": 0
      },
      "text/plain": [
       "Validation: 0it [00:00, ?it/s]"
      ]
     },
     "metadata": {},
     "output_type": "display_data"
    },
    {
     "name": "stderr",
     "output_type": "stream",
     "text": [
      "Trainer was signaled to stop but required minimum epochs (100) or minimum steps (None) has not been met. Training will continue...\n"
     ]
    },
    {
     "data": {
      "application/vnd.jupyter.widget-view+json": {
       "model_id": "",
       "version_major": 2,
       "version_minor": 0
      },
      "text/plain": [
       "Validation: 0it [00:00, ?it/s]"
      ]
     },
     "metadata": {},
     "output_type": "display_data"
    },
    {
     "name": "stderr",
     "output_type": "stream",
     "text": [
      "Trainer was signaled to stop but required minimum epochs (100) or minimum steps (None) has not been met. Training will continue...\n"
     ]
    },
    {
     "data": {
      "application/vnd.jupyter.widget-view+json": {
       "model_id": "",
       "version_major": 2,
       "version_minor": 0
      },
      "text/plain": [
       "Validation: 0it [00:00, ?it/s]"
      ]
     },
     "metadata": {},
     "output_type": "display_data"
    },
    {
     "data": {
      "application/vnd.jupyter.widget-view+json": {
       "model_id": "",
       "version_major": 2,
       "version_minor": 0
      },
      "text/plain": [
       "Validation: 0it [00:00, ?it/s]"
      ]
     },
     "metadata": {},
     "output_type": "display_data"
    },
    {
     "data": {
      "application/vnd.jupyter.widget-view+json": {
       "model_id": "",
       "version_major": 2,
       "version_minor": 0
      },
      "text/plain": [
       "Validation: 0it [00:00, ?it/s]"
      ]
     },
     "metadata": {},
     "output_type": "display_data"
    },
    {
     "data": {
      "application/vnd.jupyter.widget-view+json": {
       "model_id": "",
       "version_major": 2,
       "version_minor": 0
      },
      "text/plain": [
       "Validation: 0it [00:00, ?it/s]"
      ]
     },
     "metadata": {},
     "output_type": "display_data"
    },
    {
     "name": "stderr",
     "output_type": "stream",
     "text": [
      "Trainer was signaled to stop but required minimum epochs (100) or minimum steps (None) has not been met. Training will continue...\n"
     ]
    },
    {
     "data": {
      "application/vnd.jupyter.widget-view+json": {
       "model_id": "",
       "version_major": 2,
       "version_minor": 0
      },
      "text/plain": [
       "Validation: 0it [00:00, ?it/s]"
      ]
     },
     "metadata": {},
     "output_type": "display_data"
    },
    {
     "name": "stderr",
     "output_type": "stream",
     "text": [
      "Trainer was signaled to stop but required minimum epochs (100) or minimum steps (None) has not been met. Training will continue...\n"
     ]
    },
    {
     "data": {
      "application/vnd.jupyter.widget-view+json": {
       "model_id": "",
       "version_major": 2,
       "version_minor": 0
      },
      "text/plain": [
       "Validation: 0it [00:00, ?it/s]"
      ]
     },
     "metadata": {},
     "output_type": "display_data"
    },
    {
     "name": "stderr",
     "output_type": "stream",
     "text": [
      "Trainer was signaled to stop but required minimum epochs (100) or minimum steps (None) has not been met. Training will continue...\n"
     ]
    },
    {
     "data": {
      "application/vnd.jupyter.widget-view+json": {
       "model_id": "",
       "version_major": 2,
       "version_minor": 0
      },
      "text/plain": [
       "Validation: 0it [00:00, ?it/s]"
      ]
     },
     "metadata": {},
     "output_type": "display_data"
    },
    {
     "name": "stderr",
     "output_type": "stream",
     "text": [
      "Trainer was signaled to stop but required minimum epochs (100) or minimum steps (None) has not been met. Training will continue...\n"
     ]
    },
    {
     "data": {
      "application/vnd.jupyter.widget-view+json": {
       "model_id": "",
       "version_major": 2,
       "version_minor": 0
      },
      "text/plain": [
       "Validation: 0it [00:00, ?it/s]"
      ]
     },
     "metadata": {},
     "output_type": "display_data"
    },
    {
     "name": "stderr",
     "output_type": "stream",
     "text": [
      "Trainer was signaled to stop but required minimum epochs (100) or minimum steps (None) has not been met. Training will continue...\n"
     ]
    },
    {
     "data": {
      "application/vnd.jupyter.widget-view+json": {
       "model_id": "",
       "version_major": 2,
       "version_minor": 0
      },
      "text/plain": [
       "Validation: 0it [00:00, ?it/s]"
      ]
     },
     "metadata": {},
     "output_type": "display_data"
    },
    {
     "name": "stderr",
     "output_type": "stream",
     "text": [
      "Trainer was signaled to stop but required minimum epochs (100) or minimum steps (None) has not been met. Training will continue...\n"
     ]
    },
    {
     "data": {
      "application/vnd.jupyter.widget-view+json": {
       "model_id": "",
       "version_major": 2,
       "version_minor": 0
      },
      "text/plain": [
       "Validation: 0it [00:00, ?it/s]"
      ]
     },
     "metadata": {},
     "output_type": "display_data"
    },
    {
     "data": {
      "application/vnd.jupyter.widget-view+json": {
       "model_id": "",
       "version_major": 2,
       "version_minor": 0
      },
      "text/plain": [
       "Validation: 0it [00:00, ?it/s]"
      ]
     },
     "metadata": {},
     "output_type": "display_data"
    },
    {
     "data": {
      "application/vnd.jupyter.widget-view+json": {
       "model_id": "",
       "version_major": 2,
       "version_minor": 0
      },
      "text/plain": [
       "Validation: 0it [00:00, ?it/s]"
      ]
     },
     "metadata": {},
     "output_type": "display_data"
    },
    {
     "data": {
      "application/vnd.jupyter.widget-view+json": {
       "model_id": "",
       "version_major": 2,
       "version_minor": 0
      },
      "text/plain": [
       "Validation: 0it [00:00, ?it/s]"
      ]
     },
     "metadata": {},
     "output_type": "display_data"
    },
    {
     "name": "stderr",
     "output_type": "stream",
     "text": [
      "Trainer was signaled to stop but required minimum epochs (100) or minimum steps (None) has not been met. Training will continue...\n"
     ]
    },
    {
     "data": {
      "application/vnd.jupyter.widget-view+json": {
       "model_id": "",
       "version_major": 2,
       "version_minor": 0
      },
      "text/plain": [
       "Validation: 0it [00:00, ?it/s]"
      ]
     },
     "metadata": {},
     "output_type": "display_data"
    },
    {
     "name": "stderr",
     "output_type": "stream",
     "text": [
      "Trainer was signaled to stop but required minimum epochs (100) or minimum steps (None) has not been met. Training will continue...\n"
     ]
    },
    {
     "data": {
      "application/vnd.jupyter.widget-view+json": {
       "model_id": "",
       "version_major": 2,
       "version_minor": 0
      },
      "text/plain": [
       "Validation: 0it [00:00, ?it/s]"
      ]
     },
     "metadata": {},
     "output_type": "display_data"
    },
    {
     "name": "stderr",
     "output_type": "stream",
     "text": [
      "Trainer was signaled to stop but required minimum epochs (100) or minimum steps (None) has not been met. Training will continue...\n"
     ]
    },
    {
     "data": {
      "application/vnd.jupyter.widget-view+json": {
       "model_id": "",
       "version_major": 2,
       "version_minor": 0
      },
      "text/plain": [
       "Validation: 0it [00:00, ?it/s]"
      ]
     },
     "metadata": {},
     "output_type": "display_data"
    },
    {
     "name": "stderr",
     "output_type": "stream",
     "text": [
      "Trainer was signaled to stop but required minimum epochs (100) or minimum steps (None) has not been met. Training will continue...\n"
     ]
    },
    {
     "data": {
      "application/vnd.jupyter.widget-view+json": {
       "model_id": "",
       "version_major": 2,
       "version_minor": 0
      },
      "text/plain": [
       "Validation: 0it [00:00, ?it/s]"
      ]
     },
     "metadata": {},
     "output_type": "display_data"
    },
    {
     "name": "stderr",
     "output_type": "stream",
     "text": [
      "Trainer was signaled to stop but required minimum epochs (100) or minimum steps (None) has not been met. Training will continue...\n"
     ]
    },
    {
     "data": {
      "application/vnd.jupyter.widget-view+json": {
       "model_id": "",
       "version_major": 2,
       "version_minor": 0
      },
      "text/plain": [
       "Validation: 0it [00:00, ?it/s]"
      ]
     },
     "metadata": {},
     "output_type": "display_data"
    },
    {
     "name": "stderr",
     "output_type": "stream",
     "text": [
      "Trainer was signaled to stop but required minimum epochs (100) or minimum steps (None) has not been met. Training will continue...\n"
     ]
    },
    {
     "data": {
      "application/vnd.jupyter.widget-view+json": {
       "model_id": "",
       "version_major": 2,
       "version_minor": 0
      },
      "text/plain": [
       "Validation: 0it [00:00, ?it/s]"
      ]
     },
     "metadata": {},
     "output_type": "display_data"
    },
    {
     "name": "stderr",
     "output_type": "stream",
     "text": [
      "Trainer was signaled to stop but required minimum epochs (100) or minimum steps (None) has not been met. Training will continue...\n"
     ]
    },
    {
     "data": {
      "application/vnd.jupyter.widget-view+json": {
       "model_id": "",
       "version_major": 2,
       "version_minor": 0
      },
      "text/plain": [
       "Validation: 0it [00:00, ?it/s]"
      ]
     },
     "metadata": {},
     "output_type": "display_data"
    },
    {
     "name": "stderr",
     "output_type": "stream",
     "text": [
      "Trainer was signaled to stop but required minimum epochs (100) or minimum steps (None) has not been met. Training will continue...\n"
     ]
    },
    {
     "data": {
      "application/vnd.jupyter.widget-view+json": {
       "model_id": "",
       "version_major": 2,
       "version_minor": 0
      },
      "text/plain": [
       "Validation: 0it [00:00, ?it/s]"
      ]
     },
     "metadata": {},
     "output_type": "display_data"
    },
    {
     "name": "stderr",
     "output_type": "stream",
     "text": [
      "Trainer was signaled to stop but required minimum epochs (100) or minimum steps (None) has not been met. Training will continue...\n"
     ]
    },
    {
     "data": {
      "application/vnd.jupyter.widget-view+json": {
       "model_id": "",
       "version_major": 2,
       "version_minor": 0
      },
      "text/plain": [
       "Validation: 0it [00:00, ?it/s]"
      ]
     },
     "metadata": {},
     "output_type": "display_data"
    },
    {
     "name": "stderr",
     "output_type": "stream",
     "text": [
      "Trainer was signaled to stop but required minimum epochs (100) or minimum steps (None) has not been met. Training will continue...\n"
     ]
    },
    {
     "data": {
      "application/vnd.jupyter.widget-view+json": {
       "model_id": "",
       "version_major": 2,
       "version_minor": 0
      },
      "text/plain": [
       "Validation: 0it [00:00, ?it/s]"
      ]
     },
     "metadata": {},
     "output_type": "display_data"
    },
    {
     "name": "stderr",
     "output_type": "stream",
     "text": [
      "Trainer was signaled to stop but required minimum epochs (100) or minimum steps (None) has not been met. Training will continue...\n"
     ]
    },
    {
     "data": {
      "application/vnd.jupyter.widget-view+json": {
       "model_id": "",
       "version_major": 2,
       "version_minor": 0
      },
      "text/plain": [
       "Validation: 0it [00:00, ?it/s]"
      ]
     },
     "metadata": {},
     "output_type": "display_data"
    },
    {
     "name": "stderr",
     "output_type": "stream",
     "text": [
      "Trainer was signaled to stop but required minimum epochs (100) or minimum steps (None) has not been met. Training will continue...\n"
     ]
    },
    {
     "data": {
      "application/vnd.jupyter.widget-view+json": {
       "model_id": "",
       "version_major": 2,
       "version_minor": 0
      },
      "text/plain": [
       "Validation: 0it [00:00, ?it/s]"
      ]
     },
     "metadata": {},
     "output_type": "display_data"
    },
    {
     "name": "stderr",
     "output_type": "stream",
     "text": [
      "Trainer was signaled to stop but required minimum epochs (100) or minimum steps (None) has not been met. Training will continue...\n"
     ]
    },
    {
     "data": {
      "application/vnd.jupyter.widget-view+json": {
       "model_id": "",
       "version_major": 2,
       "version_minor": 0
      },
      "text/plain": [
       "Validation: 0it [00:00, ?it/s]"
      ]
     },
     "metadata": {},
     "output_type": "display_data"
    },
    {
     "name": "stderr",
     "output_type": "stream",
     "text": [
      "Trainer was signaled to stop but required minimum epochs (100) or minimum steps (None) has not been met. Training will continue...\n"
     ]
    },
    {
     "data": {
      "application/vnd.jupyter.widget-view+json": {
       "model_id": "",
       "version_major": 2,
       "version_minor": 0
      },
      "text/plain": [
       "Validation: 0it [00:00, ?it/s]"
      ]
     },
     "metadata": {},
     "output_type": "display_data"
    },
    {
     "name": "stderr",
     "output_type": "stream",
     "text": [
      "Trainer was signaled to stop but required minimum epochs (100) or minimum steps (None) has not been met. Training will continue...\n"
     ]
    },
    {
     "data": {
      "application/vnd.jupyter.widget-view+json": {
       "model_id": "",
       "version_major": 2,
       "version_minor": 0
      },
      "text/plain": [
       "Validation: 0it [00:00, ?it/s]"
      ]
     },
     "metadata": {},
     "output_type": "display_data"
    },
    {
     "name": "stderr",
     "output_type": "stream",
     "text": [
      "Trainer was signaled to stop but required minimum epochs (100) or minimum steps (None) has not been met. Training will continue...\n"
     ]
    },
    {
     "data": {
      "application/vnd.jupyter.widget-view+json": {
       "model_id": "",
       "version_major": 2,
       "version_minor": 0
      },
      "text/plain": [
       "Validation: 0it [00:00, ?it/s]"
      ]
     },
     "metadata": {},
     "output_type": "display_data"
    },
    {
     "name": "stderr",
     "output_type": "stream",
     "text": [
      "Trainer was signaled to stop but required minimum epochs (100) or minimum steps (None) has not been met. Training will continue...\n"
     ]
    },
    {
     "data": {
      "application/vnd.jupyter.widget-view+json": {
       "model_id": "",
       "version_major": 2,
       "version_minor": 0
      },
      "text/plain": [
       "Validation: 0it [00:00, ?it/s]"
      ]
     },
     "metadata": {},
     "output_type": "display_data"
    },
    {
     "data": {
      "application/vnd.jupyter.widget-view+json": {
       "model_id": "",
       "version_major": 2,
       "version_minor": 0
      },
      "text/plain": [
       "Validation: 0it [00:00, ?it/s]"
      ]
     },
     "metadata": {},
     "output_type": "display_data"
    },
    {
     "data": {
      "application/vnd.jupyter.widget-view+json": {
       "model_id": "",
       "version_major": 2,
       "version_minor": 0
      },
      "text/plain": [
       "Validation: 0it [00:00, ?it/s]"
      ]
     },
     "metadata": {},
     "output_type": "display_data"
    },
    {
     "data": {
      "application/vnd.jupyter.widget-view+json": {
       "model_id": "",
       "version_major": 2,
       "version_minor": 0
      },
      "text/plain": [
       "Validation: 0it [00:00, ?it/s]"
      ]
     },
     "metadata": {},
     "output_type": "display_data"
    },
    {
     "data": {
      "application/vnd.jupyter.widget-view+json": {
       "model_id": "",
       "version_major": 2,
       "version_minor": 0
      },
      "text/plain": [
       "Validation: 0it [00:00, ?it/s]"
      ]
     },
     "metadata": {},
     "output_type": "display_data"
    },
    {
     "name": "stderr",
     "output_type": "stream",
     "text": [
      "Trainer was signaled to stop but required minimum epochs (100) or minimum steps (None) has not been met. Training will continue...\n"
     ]
    },
    {
     "data": {
      "application/vnd.jupyter.widget-view+json": {
       "model_id": "",
       "version_major": 2,
       "version_minor": 0
      },
      "text/plain": [
       "Validation: 0it [00:00, ?it/s]"
      ]
     },
     "metadata": {},
     "output_type": "display_data"
    },
    {
     "name": "stderr",
     "output_type": "stream",
     "text": [
      "Trainer was signaled to stop but required minimum epochs (100) or minimum steps (None) has not been met. Training will continue...\n"
     ]
    },
    {
     "data": {
      "application/vnd.jupyter.widget-view+json": {
       "model_id": "",
       "version_major": 2,
       "version_minor": 0
      },
      "text/plain": [
       "Validation: 0it [00:00, ?it/s]"
      ]
     },
     "metadata": {},
     "output_type": "display_data"
    },
    {
     "name": "stderr",
     "output_type": "stream",
     "text": [
      "Trainer was signaled to stop but required minimum epochs (100) or minimum steps (None) has not been met. Training will continue...\n"
     ]
    },
    {
     "data": {
      "application/vnd.jupyter.widget-view+json": {
       "model_id": "",
       "version_major": 2,
       "version_minor": 0
      },
      "text/plain": [
       "Validation: 0it [00:00, ?it/s]"
      ]
     },
     "metadata": {},
     "output_type": "display_data"
    },
    {
     "name": "stderr",
     "output_type": "stream",
     "text": [
      "Trainer was signaled to stop but required minimum epochs (100) or minimum steps (None) has not been met. Training will continue...\n"
     ]
    },
    {
     "data": {
      "application/vnd.jupyter.widget-view+json": {
       "model_id": "",
       "version_major": 2,
       "version_minor": 0
      },
      "text/plain": [
       "Validation: 0it [00:00, ?it/s]"
      ]
     },
     "metadata": {},
     "output_type": "display_data"
    },
    {
     "name": "stderr",
     "output_type": "stream",
     "text": [
      "Trainer was signaled to stop but required minimum epochs (100) or minimum steps (None) has not been met. Training will continue...\n"
     ]
    },
    {
     "data": {
      "application/vnd.jupyter.widget-view+json": {
       "model_id": "",
       "version_major": 2,
       "version_minor": 0
      },
      "text/plain": [
       "Validation: 0it [00:00, ?it/s]"
      ]
     },
     "metadata": {},
     "output_type": "display_data"
    },
    {
     "name": "stderr",
     "output_type": "stream",
     "text": [
      "Trainer was signaled to stop but required minimum epochs (100) or minimum steps (None) has not been met. Training will continue...\n"
     ]
    },
    {
     "data": {
      "application/vnd.jupyter.widget-view+json": {
       "model_id": "",
       "version_major": 2,
       "version_minor": 0
      },
      "text/plain": [
       "Validation: 0it [00:00, ?it/s]"
      ]
     },
     "metadata": {},
     "output_type": "display_data"
    },
    {
     "name": "stderr",
     "output_type": "stream",
     "text": [
      "Trainer was signaled to stop but required minimum epochs (100) or minimum steps (None) has not been met. Training will continue...\n"
     ]
    },
    {
     "data": {
      "application/vnd.jupyter.widget-view+json": {
       "model_id": "",
       "version_major": 2,
       "version_minor": 0
      },
      "text/plain": [
       "Validation: 0it [00:00, ?it/s]"
      ]
     },
     "metadata": {},
     "output_type": "display_data"
    },
    {
     "name": "stderr",
     "output_type": "stream",
     "text": [
      "Trainer was signaled to stop but required minimum epochs (100) or minimum steps (None) has not been met. Training will continue...\n"
     ]
    },
    {
     "data": {
      "application/vnd.jupyter.widget-view+json": {
       "model_id": "",
       "version_major": 2,
       "version_minor": 0
      },
      "text/plain": [
       "Validation: 0it [00:00, ?it/s]"
      ]
     },
     "metadata": {},
     "output_type": "display_data"
    },
    {
     "data": {
      "application/vnd.jupyter.widget-view+json": {
       "model_id": "",
       "version_major": 2,
       "version_minor": 0
      },
      "text/plain": [
       "Validation: 0it [00:00, ?it/s]"
      ]
     },
     "metadata": {},
     "output_type": "display_data"
    },
    {
     "data": {
      "application/vnd.jupyter.widget-view+json": {
       "model_id": "",
       "version_major": 2,
       "version_minor": 0
      },
      "text/plain": [
       "Validation: 0it [00:00, ?it/s]"
      ]
     },
     "metadata": {},
     "output_type": "display_data"
    },
    {
     "data": {
      "application/vnd.jupyter.widget-view+json": {
       "model_id": "",
       "version_major": 2,
       "version_minor": 0
      },
      "text/plain": [
       "Validation: 0it [00:00, ?it/s]"
      ]
     },
     "metadata": {},
     "output_type": "display_data"
    },
    {
     "name": "stderr",
     "output_type": "stream",
     "text": [
      "Trainer was signaled to stop but required minimum epochs (100) or minimum steps (None) has not been met. Training will continue...\n"
     ]
    },
    {
     "data": {
      "application/vnd.jupyter.widget-view+json": {
       "model_id": "",
       "version_major": 2,
       "version_minor": 0
      },
      "text/plain": [
       "Validation: 0it [00:00, ?it/s]"
      ]
     },
     "metadata": {},
     "output_type": "display_data"
    },
    {
     "name": "stderr",
     "output_type": "stream",
     "text": [
      "Trainer was signaled to stop but required minimum epochs (100) or minimum steps (None) has not been met. Training will continue...\n"
     ]
    },
    {
     "data": {
      "application/vnd.jupyter.widget-view+json": {
       "model_id": "",
       "version_major": 2,
       "version_minor": 0
      },
      "text/plain": [
       "Validation: 0it [00:00, ?it/s]"
      ]
     },
     "metadata": {},
     "output_type": "display_data"
    },
    {
     "name": "stderr",
     "output_type": "stream",
     "text": [
      "Trainer was signaled to stop but required minimum epochs (100) or minimum steps (None) has not been met. Training will continue...\n"
     ]
    },
    {
     "data": {
      "application/vnd.jupyter.widget-view+json": {
       "model_id": "",
       "version_major": 2,
       "version_minor": 0
      },
      "text/plain": [
       "Validation: 0it [00:00, ?it/s]"
      ]
     },
     "metadata": {},
     "output_type": "display_data"
    },
    {
     "name": "stderr",
     "output_type": "stream",
     "text": [
      "Trainer was signaled to stop but required minimum epochs (100) or minimum steps (None) has not been met. Training will continue...\n"
     ]
    },
    {
     "data": {
      "application/vnd.jupyter.widget-view+json": {
       "model_id": "",
       "version_major": 2,
       "version_minor": 0
      },
      "text/plain": [
       "Validation: 0it [00:00, ?it/s]"
      ]
     },
     "metadata": {},
     "output_type": "display_data"
    },
    {
     "name": "stderr",
     "output_type": "stream",
     "text": [
      "Trainer was signaled to stop but required minimum epochs (100) or minimum steps (None) has not been met. Training will continue...\n"
     ]
    },
    {
     "data": {
      "application/vnd.jupyter.widget-view+json": {
       "model_id": "",
       "version_major": 2,
       "version_minor": 0
      },
      "text/plain": [
       "Validation: 0it [00:00, ?it/s]"
      ]
     },
     "metadata": {},
     "output_type": "display_data"
    },
    {
     "name": "stderr",
     "output_type": "stream",
     "text": [
      "Trainer was signaled to stop but required minimum epochs (100) or minimum steps (None) has not been met. Training will continue...\n"
     ]
    },
    {
     "data": {
      "application/vnd.jupyter.widget-view+json": {
       "model_id": "",
       "version_major": 2,
       "version_minor": 0
      },
      "text/plain": [
       "Validation: 0it [00:00, ?it/s]"
      ]
     },
     "metadata": {},
     "output_type": "display_data"
    },
    {
     "name": "stderr",
     "output_type": "stream",
     "text": [
      "Trainer was signaled to stop but required minimum epochs (100) or minimum steps (None) has not been met. Training will continue...\n"
     ]
    },
    {
     "data": {
      "application/vnd.jupyter.widget-view+json": {
       "model_id": "",
       "version_major": 2,
       "version_minor": 0
      },
      "text/plain": [
       "Validation: 0it [00:00, ?it/s]"
      ]
     },
     "metadata": {},
     "output_type": "display_data"
    },
    {
     "name": "stderr",
     "output_type": "stream",
     "text": [
      "Trainer was signaled to stop but required minimum epochs (100) or minimum steps (None) has not been met. Training will continue...\n"
     ]
    },
    {
     "data": {
      "application/vnd.jupyter.widget-view+json": {
       "model_id": "",
       "version_major": 2,
       "version_minor": 0
      },
      "text/plain": [
       "Validation: 0it [00:00, ?it/s]"
      ]
     },
     "metadata": {},
     "output_type": "display_data"
    },
    {
     "name": "stderr",
     "output_type": "stream",
     "text": [
      "Trainer was signaled to stop but required minimum epochs (100) or minimum steps (None) has not been met. Training will continue...\n"
     ]
    },
    {
     "data": {
      "application/vnd.jupyter.widget-view+json": {
       "model_id": "",
       "version_major": 2,
       "version_minor": 0
      },
      "text/plain": [
       "Validation: 0it [00:00, ?it/s]"
      ]
     },
     "metadata": {},
     "output_type": "display_data"
    },
    {
     "name": "stderr",
     "output_type": "stream",
     "text": [
      "Trainer was signaled to stop but required minimum epochs (100) or minimum steps (None) has not been met. Training will continue...\n"
     ]
    },
    {
     "data": {
      "application/vnd.jupyter.widget-view+json": {
       "model_id": "",
       "version_major": 2,
       "version_minor": 0
      },
      "text/plain": [
       "Validation: 0it [00:00, ?it/s]"
      ]
     },
     "metadata": {},
     "output_type": "display_data"
    },
    {
     "name": "stderr",
     "output_type": "stream",
     "text": [
      "Trainer was signaled to stop but required minimum epochs (100) or minimum steps (None) has not been met. Training will continue...\n"
     ]
    },
    {
     "data": {
      "application/vnd.jupyter.widget-view+json": {
       "model_id": "",
       "version_major": 2,
       "version_minor": 0
      },
      "text/plain": [
       "Validation: 0it [00:00, ?it/s]"
      ]
     },
     "metadata": {},
     "output_type": "display_data"
    },
    {
     "name": "stderr",
     "output_type": "stream",
     "text": [
      "Trainer was signaled to stop but required minimum epochs (100) or minimum steps (None) has not been met. Training will continue...\n"
     ]
    },
    {
     "data": {
      "application/vnd.jupyter.widget-view+json": {
       "model_id": "",
       "version_major": 2,
       "version_minor": 0
      },
      "text/plain": [
       "Validation: 0it [00:00, ?it/s]"
      ]
     },
     "metadata": {},
     "output_type": "display_data"
    },
    {
     "name": "stderr",
     "output_type": "stream",
     "text": [
      "Trainer was signaled to stop but required minimum epochs (100) or minimum steps (None) has not been met. Training will continue...\n"
     ]
    },
    {
     "data": {
      "application/vnd.jupyter.widget-view+json": {
       "model_id": "",
       "version_major": 2,
       "version_minor": 0
      },
      "text/plain": [
       "Validation: 0it [00:00, ?it/s]"
      ]
     },
     "metadata": {},
     "output_type": "display_data"
    }
   ],
   "source": [
    "# Train the model\n",
    "trainer.fit(model, train_data_loader, valid_data_loader)\n",
    "trainer.save_checkpoint(\"Temp/BioNet_SMOTE_val_loss.ckpt\")"
   ]
  },
  {
   "cell_type": "markdown",
   "id": "3d0979f3-7ace-47f5-b50e-3c9f1c3f5d75",
   "metadata": {},
   "source": [
    "# 6. Model evaluation"
   ]
  },
  {
   "cell_type": "code",
   "execution_count": 16,
   "id": "fe384690-d5a2-4ca2-b855-533b3103b7f3",
   "metadata": {},
   "outputs": [
    {
     "data": {
      "application/vnd.jupyter.widget-view+json": {
       "model_id": "0d5833d014da47a58615f1453bc3fef0",
       "version_major": 2,
       "version_minor": 0
      },
      "text/plain": [
       "Testing: 0it [00:00, ?it/s]"
      ]
     },
     "metadata": {},
     "output_type": "display_data"
    },
    {
     "name": "stdout",
     "output_type": "stream",
     "text": [
      "────────────────────────────────────────────────────────────────────────────────────────────────────────────────────────────────────────────────────────────────────────────────────────────────────────\n",
      "       Test metric             DataLoader 0\n",
      "────────────────────────────────────────────────────────────────────────────────────────────────────────────────────────────────────────────────────────────────────────────────────────────────────────\n",
      "         val_aps            0.9849232890146371\n",
      "         val_auc            0.9883495314554251\n",
      "         val_bac            0.9618513924481993\n",
      "        val_loss            0.3526972532272339\n",
      "         val_pre            0.9723635719704449\n",
      "         val_rec            0.9496828596244183\n",
      "────────────────────────────────────────────────────────────────────────────────────────────────────────────────────────────────────────────────────────────────────────────────────────────────────────\n"
     ]
    },
    {
     "data": {
      "text/plain": [
       "[{'val_loss': 0.3526972532272339,\n",
       "  'val_bac': 0.9618513924481993,\n",
       "  'val_auc': 0.9883495314554251,\n",
       "  'val_aps': 0.9849232890146371,\n",
       "  'val_rec': 0.9496828596244183,\n",
       "  'val_pre': 0.9723635719704449}]"
      ]
     },
     "execution_count": 16,
     "metadata": {},
     "output_type": "execute_result"
    }
   ],
   "source": [
    "trainer.test(model, valid_data_loader)"
   ]
  },
  {
   "cell_type": "code",
   "execution_count": 17,
   "id": "d4f9e3a0-d2ab-4f7a-bf9e-5d29fe0dfa76",
   "metadata": {},
   "outputs": [
    {
     "data": {
      "application/vnd.jupyter.widget-view+json": {
       "model_id": "e3d38baaba4e405bb5fe7f33cd581f1c",
       "version_major": 2,
       "version_minor": 0
      },
      "text/plain": [
       "Testing: 0it [00:00, ?it/s]"
      ]
     },
     "metadata": {},
     "output_type": "display_data"
    },
    {
     "name": "stdout",
     "output_type": "stream",
     "text": [
      "────────────────────────────────────────────────────────────────────────────────────────────────────────────────────────────────────────────────────────────────────────────────────────────────────────\n",
      "       Test metric             DataLoader 0\n",
      "────────────────────────────────────────────────────────────────────────────────────────────────────────────────────────────────────────────────────────────────────────────────────────────────────────\n",
      "         val_aps            0.9745004852432015\n",
      "         val_auc            0.9894352127425043\n",
      "         val_bac            0.9602158427028218\n",
      "        val_loss            0.3495907485485077\n",
      "         val_pre            0.9489194499017681\n",
      "         val_rec                0.943359375\n",
      "────────────────────────────────────────────────────────────────────────────────────────────────────────────────────────────────────────────────────────────────────────────────────────────────────────\n"
     ]
    },
    {
     "data": {
      "text/plain": [
       "[{'val_loss': 0.3495907485485077,\n",
       "  'val_bac': 0.9602158427028218,\n",
       "  'val_auc': 0.9894352127425043,\n",
       "  'val_aps': 0.9745004852432015,\n",
       "  'val_rec': 0.943359375,\n",
       "  'val_pre': 0.9489194499017681}]"
      ]
     },
     "execution_count": 17,
     "metadata": {},
     "output_type": "execute_result"
    }
   ],
   "source": [
    "trainer.test(model, test_data_loader)"
   ]
  },
  {
   "cell_type": "code",
   "execution_count": null,
   "id": "d6d88f24-14f7-4166-a0ad-70fbf7383ff4",
   "metadata": {},
   "outputs": [],
   "source": []
  },
  {
   "cell_type": "code",
   "execution_count": 18,
   "id": "b9b7fb29-674c-4f36-980b-3b50d4128269",
   "metadata": {},
   "outputs": [
    {
     "data": {
      "application/vnd.jupyter.widget-view+json": {
       "model_id": "dfb8cca0b9694ce9b0811033949389a9",
       "version_major": 2,
       "version_minor": 0
      },
      "text/plain": [
       "Predicting: 32it [00:00, ?it/s]"
      ]
     },
     "metadata": {},
     "output_type": "display_data"
    },
    {
     "data": {
      "image/png": "[encoded data removed]",
      "text/plain": [
       "<Figure size 2400x1800 with 1 Axes>"
      ]
     },
     "metadata": {
      "needs_background": "light"
     },
     "output_type": "display_data"
    },
    {
     "data": {
      "text/plain": [
       "<Figure size 2400x1800 with 0 Axes>"
      ]
     },
     "metadata": {},
     "output_type": "display_data"
    },
    {
     "data": {
      "image/png": "[encoded data removed]",
      "text/plain": [
       "<Figure size 432x288 with 1 Axes>"
      ]
     },
     "metadata": {
      "needs_background": "light"
     },
     "output_type": "display_data"
    }
   ],
   "source": [
    "from sklearn import metrics\n",
    "pred, probs = trainer.predict(model, test_data_loader)[0]\n",
    "#auc = roc_auc_score(y_test, probs.numpy())\n",
    "\n",
    "fpr, tpr, thresholds = metrics.roc_curve(y_test, probs.numpy(), pos_label=1)\n",
    "auc = metrics.auc(fpr, tpr)\n",
    "fig = plt.figure(figsize=(8, 6), dpi=300)\n",
    "_ = plt.plot(fpr, tpr, color=\"darkorange\", lw=2, label=\"ROC curve (area = %0.3f)\" % auc)\n",
    "_ = plt.plot([0, 1], [0, 1], color=\"navy\", lw=2, linestyle=\"--\")\n",
    "_ = plt.xlim([-0.01, 1.01])\n",
    "_ = plt.ylim([-0.01, 1.01])\n",
    "_ = plt.xlabel(\"False Positive Rate\")\n",
    "_ = plt.ylabel(\"True Positive Rate\")\n",
    "_ = plt.legend(loc=\"lower right\")\n",
    "_ = plt.show()\n",
    "fig.savefig('20220610_Results/6. ROC_BioNet_SMOTE_val_loss.pdf', dpi=300)\n",
    "\n",
    "precision, recall, _ = metrics.precision_recall_curve(y_test, pred.numpy())\n",
    "disp = metrics.PrecisionRecallDisplay(precision=precision, recall=recall)\n",
    "fig = plt.figure(figsize=(8, 6), dpi=300)\n",
    "_ = disp.plot()"
   ]
  },
  {
   "cell_type": "code",
   "execution_count": 19,
   "id": "efbafd71-4dac-41b8-9a4f-7c4262bf24b7",
   "metadata": {},
   "outputs": [
    {
     "data": {
      "image/png": "[encoded data removed]",
      "text/plain": [
       "<Figure size 480x480 with 2 Axes>"
      ]
     },
     "metadata": {
      "needs_background": "light"
     },
     "output_type": "display_data"
    }
   ],
   "source": [
    "from sklearn.metrics import confusion_matrix, ConfusionMatrixDisplay\n",
    "fig = plt.figure(1, (6, 6), dpi=80)\n",
    "ax = fig.add_subplot(1,1,1)\n",
    "cm = confusion_matrix(y_test, pred.numpy(), labels=[0, 1])\n",
    "disp = ConfusionMatrixDisplay(confusion_matrix=cm, display_labels=[0, 1])\n",
    "_ = disp.plot(ax=ax, cmap='Blues') #, ax=ax, cmap='Blues'\n",
    "#_ = plot_confusion_matrix(model, X_test[select_microRNA], y_test, ax=ax, cmap='Blues')\n",
    "fig.savefig('20220610_Results/6. plot_confusion_matrix_BioNet_SMOTE_val_loss.pdf', dpi=300)"
   ]
  },
  {
   "cell_type": "code",
   "execution_count": null,
   "id": "ffef46f2-9fa2-4f1c-bad4-662b6e21d7e7",
   "metadata": {},
   "outputs": [],
   "source": []
  },
  {
   "cell_type": "markdown",
   "id": "36d9c848-d96e-48c6-b293-e1c527a62956",
   "metadata": {},
   "source": [
    "# 7. Model predictions"
   ]
  },
  {
   "cell_type": "code",
   "execution_count": 8,
   "id": "d010d585-4d2e-443c-bdbb-a2dba64d3a7e",
   "metadata": {},
   "outputs": [
    {
     "name": "stderr",
     "output_type": "stream",
     "text": [
      "GPU available: False, used: False\n",
      "TPU available: False, using: 0 TPU cores\n",
      "IPU available: False, using: 0 IPUs\n",
      "HPU available: False, using: 0 HPUs\n"
     ]
    }
   ],
   "source": [
    "model = MaskedModel.load_from_checkpoint(checkpoint_path=\"Temp/BioNet_SMOTE_val_loss.ckpt\")\n",
    "trainer = Trainer()\n",
    "#trainer.test(model, dataloaders=test_data_loader)"
   ]
  },
  {
   "cell_type": "code",
   "execution_count": 9,
   "id": "8a841710-c016-49a3-890c-6e9cd1dfc7c7",
   "metadata": {},
   "outputs": [
    {
     "data": {
      "application/vnd.jupyter.widget-view+json": {
       "model_id": "ff4a7ceee7ac4f8b9636286780c07cbf",
       "version_major": 2,
       "version_minor": 0
      },
      "text/plain": [
       "Predicting: 0it [00:00, ?it/s]"
      ]
     },
     "metadata": {},
     "output_type": "display_data"
    }
   ],
   "source": [
    "preds = trainer.predict(model, test_data_loader)"
   ]
  },
  {
   "cell_type": "code",
   "execution_count": 29,
   "id": "655c5a39-799d-4042-98c5-3ad3a518766e",
   "metadata": {},
   "outputs": [
    {
     "data": {
      "text/plain": [
       "[array([0, 0, 0, ..., 0, 0, 1]),\n",
       " array([2.9841816e-04, 3.6976105e-04, 8.3620066e-04, ..., 2.1612234e-03,\n",
       "        5.7251956e-03, 9.9773139e-01], dtype=float32)]"
      ]
     },
     "execution_count": 29,
     "metadata": {},
     "output_type": "execute_result"
    }
   ],
   "source": [
    "pred_list = list(preds[0])\n",
    "pred_list[0] = pred_list[0].numpy()\n",
    "pred_list[1] = pred_list[1].numpy()\n",
    "pred_list"
   ]
  },
  {
   "cell_type": "code",
   "execution_count": 31,
   "id": "2d807452-325b-43e4-9235-a4ee4ed97d8a",
   "metadata": {},
   "outputs": [],
   "source": [
    "X_test_ = pd.read_csv('20220610_Results/1. X_test.csv', index_col=0)\n",
    "pred_df = pd.DataFrame(np.array(pred_list).T, columns=['Pred', 'Prob'], index=X_test_.index)\n",
    "pred_df.to_csv('20220610_Results/6. Pred_result.csv')"
   ]
  },
  {
   "cell_type": "code",
   "execution_count": 32,
   "id": "4865933a-bea6-4407-b728-376d11a0b639",
   "metadata": {},
   "outputs": [
    {
     "data": {
      "text/html": [
       "<div>\n",
       "<style scoped>\n",
       "    .dataframe tbody tr th:only-of-type {\n",
       "        vertical-align: middle;\n",
       "    }\n",
       "\n",
       "    .dataframe tbody tr th {\n",
       "        vertical-align: top;\n",
       "    }\n",
       "\n",
       "    .dataframe thead th {\n",
       "        text-align: right;\n",
       "    }\n",
       "</style>\n",
       "<table border=\"1\" class=\"dataframe\">\n",
       "  <thead>\n",
       "    <tr style=\"text-align: right;\">\n",
       "      <th></th>\n",
       "      <th>Pred</th>\n",
       "      <th>Prob</th>\n",
       "    </tr>\n",
       "  </thead>\n",
       "  <tbody>\n",
       "    <tr>\n",
       "      <th>GSM1878567</th>\n",
       "      <td>0.0</td>\n",
       "      <td>0.000298</td>\n",
       "    </tr>\n",
       "    <tr>\n",
       "      <th>GSM1877697</th>\n",
       "      <td>0.0</td>\n",
       "      <td>0.000370</td>\n",
       "    </tr>\n",
       "    <tr>\n",
       "      <th>GSM1879645</th>\n",
       "      <td>0.0</td>\n",
       "      <td>0.000836</td>\n",
       "    </tr>\n",
       "    <tr>\n",
       "      <th>GSM1877269</th>\n",
       "      <td>1.0</td>\n",
       "      <td>0.992352</td>\n",
       "    </tr>\n",
       "    <tr>\n",
       "      <th>GSM1879958</th>\n",
       "      <td>0.0</td>\n",
       "      <td>0.000428</td>\n",
       "    </tr>\n",
       "    <tr>\n",
       "      <th>...</th>\n",
       "      <td>...</td>\n",
       "      <td>...</td>\n",
       "    </tr>\n",
       "    <tr>\n",
       "      <th>GSM1876809</th>\n",
       "      <td>1.0</td>\n",
       "      <td>0.997479</td>\n",
       "    </tr>\n",
       "    <tr>\n",
       "      <th>GSM1879670</th>\n",
       "      <td>0.0</td>\n",
       "      <td>0.000735</td>\n",
       "    </tr>\n",
       "    <tr>\n",
       "      <th>GSM1878229</th>\n",
       "      <td>0.0</td>\n",
       "      <td>0.002161</td>\n",
       "    </tr>\n",
       "    <tr>\n",
       "      <th>GSM1878868</th>\n",
       "      <td>0.0</td>\n",
       "      <td>0.005725</td>\n",
       "    </tr>\n",
       "    <tr>\n",
       "      <th>GSM1880433</th>\n",
       "      <td>1.0</td>\n",
       "      <td>0.997731</td>\n",
       "    </tr>\n",
       "  </tbody>\n",
       "</table>\n",
       "<p>1646 rows × 2 columns</p>\n",
       "</div>"
      ],
      "text/plain": [
       "            Pred      Prob\n",
       "GSM1878567   0.0  0.000298\n",
       "GSM1877697   0.0  0.000370\n",
       "GSM1879645   0.0  0.000836\n",
       "GSM1877269   1.0  0.992352\n",
       "GSM1879958   0.0  0.000428\n",
       "...          ...       ...\n",
       "GSM1876809   1.0  0.997479\n",
       "GSM1879670   0.0  0.000735\n",
       "GSM1878229   0.0  0.002161\n",
       "GSM1878868   0.0  0.005725\n",
       "GSM1880433   1.0  0.997731\n",
       "\n",
       "[1646 rows x 2 columns]"
      ]
     },
     "execution_count": 32,
     "metadata": {},
     "output_type": "execute_result"
    }
   ],
   "source": [
    "pred_df"
   ]
  },
  {
   "cell_type": "markdown",
   "id": "acf81991-ddb0-43e3-891b-4ff8a0cb5eed",
   "metadata": {},
   "source": [
    "# 8. External data validation"
   ]
  },
  {
   "cell_type": "code",
   "execution_count": 22,
   "id": "9d9054b7-0e13-4407-8dcc-d200dde7e63e",
   "metadata": {},
   "outputs": [
    {
     "data": {
      "text/plain": [
       "(710, 523)"
      ]
     },
     "execution_count": 22,
     "metadata": {},
     "output_type": "execute_result"
    },
    {
     "data": {
      "text/html": [
       "<div>\n",
       "<style scoped>\n",
       "    .dataframe tbody tr th:only-of-type {\n",
       "        vertical-align: middle;\n",
       "    }\n",
       "\n",
       "    .dataframe tbody tr th {\n",
       "        vertical-align: top;\n",
       "    }\n",
       "\n",
       "    .dataframe thead th {\n",
       "        text-align: right;\n",
       "    }\n",
       "</style>\n",
       "<table border=\"1\" class=\"dataframe\">\n",
       "  <thead>\n",
       "    <tr style=\"text-align: right;\">\n",
       "      <th></th>\n",
       "      <th>hsa-miR-9-5p</th>\n",
       "      <th>hsa-miR-126-3p</th>\n",
       "      <th>hsa-miR-140-5p</th>\n",
       "      <th>hsa-miR-105-5p</th>\n",
       "      <th>hsa-miR-297</th>\n",
       "      <th>hsa-let-7i-5p</th>\n",
       "      <th>hsa-miR-130a-3p</th>\n",
       "      <th>hsa-miR-146b-5p</th>\n",
       "      <th>hsa_negative_control_6</th>\n",
       "      <th>hsa_negative_control_7</th>\n",
       "      <th>...</th>\n",
       "      <th>hsa-miR-205-3p</th>\n",
       "      <th>hsa-miR-1260a</th>\n",
       "      <th>hsa-miR-525-5p</th>\n",
       "      <th>hsa-miR-187-5p</th>\n",
       "      <th>hsa-miRPlus-A1086</th>\n",
       "      <th>hsa-miR-551b-5p</th>\n",
       "      <th>hsa-miR-300</th>\n",
       "      <th>hsa-miR-193b-5p</th>\n",
       "      <th>Label</th>\n",
       "      <th>Disease</th>\n",
       "    </tr>\n",
       "  </thead>\n",
       "  <tbody>\n",
       "    <tr>\n",
       "      <th>0</th>\n",
       "      <td>6.877643</td>\n",
       "      <td>8.080215</td>\n",
       "      <td>6.245265</td>\n",
       "      <td>6.304782</td>\n",
       "      <td>6.686064</td>\n",
       "      <td>7.805950</td>\n",
       "      <td>6.814781</td>\n",
       "      <td>7.146955</td>\n",
       "      <td>6.170680</td>\n",
       "      <td>6.129586</td>\n",
       "      <td>...</td>\n",
       "      <td>7.176684</td>\n",
       "      <td>7.724408</td>\n",
       "      <td>6.035476</td>\n",
       "      <td>6.255048</td>\n",
       "      <td>6.572019</td>\n",
       "      <td>6.251777</td>\n",
       "      <td>5.873303</td>\n",
       "      <td>6.362097</td>\n",
       "      <td>1</td>\n",
       "      <td>primary breast cancer</td>\n",
       "    </tr>\n",
       "    <tr>\n",
       "      <th>1</th>\n",
       "      <td>6.544287</td>\n",
       "      <td>6.882722</td>\n",
       "      <td>5.874236</td>\n",
       "      <td>6.324987</td>\n",
       "      <td>6.638048</td>\n",
       "      <td>6.946567</td>\n",
       "      <td>6.488574</td>\n",
       "      <td>6.690773</td>\n",
       "      <td>6.160272</td>\n",
       "      <td>6.104929</td>\n",
       "      <td>...</td>\n",
       "      <td>7.249094</td>\n",
       "      <td>7.308890</td>\n",
       "      <td>6.021796</td>\n",
       "      <td>6.902473</td>\n",
       "      <td>6.347183</td>\n",
       "      <td>6.625569</td>\n",
       "      <td>6.004899</td>\n",
       "      <td>6.560329</td>\n",
       "      <td>1</td>\n",
       "      <td>primary breast cancer</td>\n",
       "    </tr>\n",
       "  </tbody>\n",
       "</table>\n",
       "<p>2 rows × 1928 columns</p>\n",
       "</div>"
      ],
      "text/plain": [
       "   hsa-miR-9-5p  hsa-miR-126-3p  hsa-miR-140-5p  hsa-miR-105-5p  hsa-miR-297  \\\n",
       "0      6.877643        8.080215        6.245265        6.304782     6.686064   \n",
       "1      6.544287        6.882722        5.874236        6.324987     6.638048   \n",
       "\n",
       "   hsa-let-7i-5p  hsa-miR-130a-3p  hsa-miR-146b-5p  hsa_negative_control_6  \\\n",
       "0       7.805950         6.814781         7.146955                6.170680   \n",
       "1       6.946567         6.488574         6.690773                6.160272   \n",
       "\n",
       "   hsa_negative_control_7  ...  hsa-miR-205-3p  hsa-miR-1260a  hsa-miR-525-5p  \\\n",
       "0                6.129586  ...        7.176684       7.724408        6.035476   \n",
       "1                6.104929  ...        7.249094       7.308890        6.021796   \n",
       "\n",
       "   hsa-miR-187-5p  hsa-miRPlus-A1086  hsa-miR-551b-5p  hsa-miR-300  \\\n",
       "0        6.255048           6.572019         6.251777     5.873303   \n",
       "1        6.902473           6.347183         6.625569     6.004899   \n",
       "\n",
       "   hsa-miR-193b-5p  Label                Disease  \n",
       "0         6.362097      1  primary breast cancer  \n",
       "1         6.560329      1  primary breast cancer  \n",
       "\n",
       "[2 rows x 1928 columns]"
      ]
     },
     "execution_count": 22,
     "metadata": {},
     "output_type": "execute_result"
    },
    {
     "data": {
      "text/html": [
       "<div>\n",
       "<style scoped>\n",
       "    .dataframe tbody tr th:only-of-type {\n",
       "        vertical-align: middle;\n",
       "    }\n",
       "\n",
       "    .dataframe tbody tr th {\n",
       "        vertical-align: top;\n",
       "    }\n",
       "\n",
       "    .dataframe thead th {\n",
       "        text-align: right;\n",
       "    }\n",
       "</style>\n",
       "<table border=\"1\" class=\"dataframe\">\n",
       "  <thead>\n",
       "    <tr style=\"text-align: right;\">\n",
       "      <th></th>\n",
       "      <th>hsa-miR-5000-3p</th>\n",
       "      <th>hsa-miR-191-5p</th>\n",
       "      <th>hsa-miR-380-5p</th>\n",
       "      <th>hsa-miR-4474-5p</th>\n",
       "      <th>hsa-miR-4311</th>\n",
       "      <th>hsa-miR-518f-5p</th>\n",
       "      <th>hsa-miR-19b-1-5p</th>\n",
       "      <th>hsa-miR-425-3p</th>\n",
       "      <th>hsa-miR-625-5p</th>\n",
       "      <th>hsa-miR-4655-3p</th>\n",
       "      <th>...</th>\n",
       "      <th>hsa-miR-6796-5p</th>\n",
       "      <th>hsa-miR-98-3p</th>\n",
       "      <th>hsa-miR-6720-3p</th>\n",
       "      <th>hsa-miR-6849-3p</th>\n",
       "      <th>hsa-miR-203b-5p</th>\n",
       "      <th>hsa-miR-6769a-5p</th>\n",
       "      <th>hsa-miR-6504-3p</th>\n",
       "      <th>hsa-miR-6861-5p</th>\n",
       "      <th>hsa-miR-1251-5p</th>\n",
       "      <th>hsa-miR-219b-5p</th>\n",
       "    </tr>\n",
       "  </thead>\n",
       "  <tbody>\n",
       "    <tr>\n",
       "      <th>0</th>\n",
       "      <td>6.877273</td>\n",
       "      <td>6.930538</td>\n",
       "      <td>6.306224</td>\n",
       "      <td>5.805400</td>\n",
       "      <td>6.670228</td>\n",
       "      <td>6.103235</td>\n",
       "      <td>6.427767</td>\n",
       "      <td>6.634423</td>\n",
       "      <td>6.418833</td>\n",
       "      <td>6.082664</td>\n",
       "      <td>...</td>\n",
       "      <td>3.843195</td>\n",
       "      <td>2.413887</td>\n",
       "      <td>2.352475</td>\n",
       "      <td>3.609278</td>\n",
       "      <td>2.372301</td>\n",
       "      <td>6.129119</td>\n",
       "      <td>2.37833</td>\n",
       "      <td>6.909919</td>\n",
       "      <td>2.434913</td>\n",
       "      <td>3.156666</td>\n",
       "    </tr>\n",
       "    <tr>\n",
       "      <th>1</th>\n",
       "      <td>7.604156</td>\n",
       "      <td>6.801036</td>\n",
       "      <td>6.278800</td>\n",
       "      <td>5.847458</td>\n",
       "      <td>6.821092</td>\n",
       "      <td>6.155012</td>\n",
       "      <td>6.288384</td>\n",
       "      <td>6.868152</td>\n",
       "      <td>6.500591</td>\n",
       "      <td>6.037955</td>\n",
       "      <td>...</td>\n",
       "      <td>3.843195</td>\n",
       "      <td>2.413887</td>\n",
       "      <td>2.352475</td>\n",
       "      <td>3.609278</td>\n",
       "      <td>2.372301</td>\n",
       "      <td>6.129119</td>\n",
       "      <td>2.37833</td>\n",
       "      <td>6.909919</td>\n",
       "      <td>2.434913</td>\n",
       "      <td>3.156666</td>\n",
       "    </tr>\n",
       "  </tbody>\n",
       "</table>\n",
       "<p>2 rows × 711 columns</p>\n",
       "</div>"
      ],
      "text/plain": [
       "   hsa-miR-5000-3p  hsa-miR-191-5p  hsa-miR-380-5p  hsa-miR-4474-5p  \\\n",
       "0         6.877273        6.930538        6.306224         5.805400   \n",
       "1         7.604156        6.801036        6.278800         5.847458   \n",
       "\n",
       "   hsa-miR-4311  hsa-miR-518f-5p  hsa-miR-19b-1-5p  hsa-miR-425-3p  \\\n",
       "0      6.670228         6.103235          6.427767        6.634423   \n",
       "1      6.821092         6.155012          6.288384        6.868152   \n",
       "\n",
       "   hsa-miR-625-5p  hsa-miR-4655-3p  ...  hsa-miR-6796-5p  hsa-miR-98-3p  \\\n",
       "0        6.418833         6.082664  ...         3.843195       2.413887   \n",
       "1        6.500591         6.037955  ...         3.843195       2.413887   \n",
       "\n",
       "   hsa-miR-6720-3p  hsa-miR-6849-3p  hsa-miR-203b-5p  hsa-miR-6769a-5p  \\\n",
       "0         2.352475         3.609278         2.372301          6.129119   \n",
       "1         2.352475         3.609278         2.372301          6.129119   \n",
       "\n",
       "   hsa-miR-6504-3p  hsa-miR-6861-5p  hsa-miR-1251-5p  hsa-miR-219b-5p  \n",
       "0          2.37833         6.909919         2.434913         3.156666  \n",
       "1          2.37833         6.909919         2.434913         3.156666  \n",
       "\n",
       "[2 rows x 711 columns]"
      ]
     },
     "execution_count": 22,
     "metadata": {},
     "output_type": "execute_result"
    }
   ],
   "source": [
    "extenal = pd.read_csv('20220610_Results/1. GSE58606.csv', index_col=0)\n",
    "X_train_ = pd.read_csv('20220610_Results/1. X_train.csv', index_col=0)\n",
    "len(microRNA), len(set(microRNA)&set(extenal.columns))\n",
    "extenal.head(2)\n",
    "temp = extenal[list(set(microRNA)&set(extenal.columns))+['Label']]\n",
    "for i in set(microRNA)-set(extenal.columns):\n",
    "    temp[i] = X_train_[i].median()\n",
    "extenal = temp\n",
    "extenal.head(2)"
   ]
  },
  {
   "cell_type": "code",
   "execution_count": 23,
   "id": "528d060b-5862-4b18-8374-a20203b37694",
   "metadata": {},
   "outputs": [],
   "source": [
    "X_extenal = torch.from_numpy(extenal[microRNA].values).type(torch.FloatTensor)\n",
    "y_extenal = torch.from_numpy(extenal['Label'].values).type(torch.LongTensor)\n",
    "extenal_data_loader = TorchData.DataLoader(dataset=TorchData.TensorDataset(X_extenal, y_extenal), \n",
    "                                           batch_size=X_extenal.shape[0], shuffle=False)"
   ]
  },
  {
   "cell_type": "code",
   "execution_count": 24,
   "id": "bf722d9c-e97b-4ac3-b088-44b69588fa3a",
   "metadata": {},
   "outputs": [
    {
     "data": {
      "application/vnd.jupyter.widget-view+json": {
       "model_id": "3d46f331defc4968b99f24a02743f992",
       "version_major": 2,
       "version_minor": 0
      },
      "text/plain": [
       "Testing: 0it [00:00, ?it/s]"
      ]
     },
     "metadata": {},
     "output_type": "display_data"
    },
    {
     "name": "stdout",
     "output_type": "stream",
     "text": [
      "────────────────────────────────────────────────────────────────────────────────────────────────────────────────────────────────────────────────────────────────────────────────────────────────────────\n",
      "       Test metric             DataLoader 0\n",
      "────────────────────────────────────────────────────────────────────────────────────────────────────────────────────────────────────────────────────────────────────────────────────────────────────────\n",
      "         val_aps            0.9617503582370652\n",
      "         val_auc            0.6669150521609538\n",
      "         val_bac                    0.5\n",
      "        val_loss            0.39883047342300415\n",
      "         val_pre            0.9172932330827067\n",
      "         val_rec                    1.0\n",
      "────────────────────────────────────────────────────────────────────────────────────────────────────────────────────────────────────────────────────────────────────────────────────────────────────────\n"
     ]
    },
    {
     "data": {
      "text/plain": [
       "[{'val_loss': 0.39883047342300415,\n",
       "  'val_bac': 0.5,\n",
       "  'val_auc': 0.6669150521609538,\n",
       "  'val_aps': 0.9617503582370652,\n",
       "  'val_rec': 1.0,\n",
       "  'val_pre': 0.9172932330827067}]"
      ]
     },
     "execution_count": 24,
     "metadata": {},
     "output_type": "execute_result"
    }
   ],
   "source": [
    "trainer.test(model, extenal_data_loader)"
   ]
  },
  {
   "cell_type": "code",
   "execution_count": 25,
   "id": "0f2de48f-4b49-4d48-8033-adcde3085cbc",
   "metadata": {},
   "outputs": [
    {
     "data": {
      "application/vnd.jupyter.widget-view+json": {
       "model_id": "ef0af4b7fadd46a3aeda165747b87406",
       "version_major": 2,
       "version_minor": 0
      },
      "text/plain": [
       "Predicting: 0it [00:00, ?it/s]"
      ]
     },
     "metadata": {},
     "output_type": "display_data"
    },
    {
     "data": {
      "text/plain": [
       "[(tensor([1, 1, 1, 1, 1, 1, 1, 1, 1, 1, 1, 1, 1, 1, 1, 1, 1, 1, 1, 1, 1, 1, 1, 1,\n",
       "          1, 1, 1, 1, 1, 1, 1, 1, 1, 1, 1, 1, 1, 1, 1, 1, 1, 1, 1, 1, 1, 1, 1, 1,\n",
       "          1, 1, 1, 1, 1, 1, 1, 1, 1, 1, 1, 1, 1, 1, 1, 1, 1, 1, 1, 1, 1, 1, 1, 1,\n",
       "          1, 1, 1, 1, 1, 1, 1, 1, 1, 1, 1, 1, 1, 1, 1, 1, 1, 1, 1, 1, 1, 1, 1, 1,\n",
       "          1, 1, 1, 1, 1, 1, 1, 1, 1, 1, 1, 1, 1, 1, 1, 1, 1, 1, 1, 1, 1, 1, 1, 1,\n",
       "          1, 1, 1, 1, 1, 1, 1, 1, 1, 1, 1, 1, 1]),\n",
       "  tensor([0.9939, 0.9933, 0.9931, 0.9927, 0.9917, 0.9885, 0.9942, 0.9912, 0.9917,\n",
       "          0.9886, 0.9933, 0.9887, 0.9964, 0.9932, 0.9939, 0.9907, 0.9890, 0.9912,\n",
       "          0.9929, 0.9939, 0.9919, 0.9909, 0.9929, 0.9969, 0.9933, 0.9943, 0.9916,\n",
       "          0.9937, 0.9912, 0.9914, 0.9921, 0.9927, 0.9947, 0.9968, 0.9933, 0.9895,\n",
       "          0.9930, 0.9913, 0.9916, 0.9898, 0.9916, 0.9921, 0.9947, 0.9928, 0.9922,\n",
       "          0.9915, 0.9939, 0.9931, 0.9939, 0.9944, 0.9928, 0.9927, 0.9926, 0.9927,\n",
       "          0.9929, 0.9935, 0.9965, 0.9921, 0.9931, 0.9920, 0.9929, 0.9937, 0.9956,\n",
       "          0.9938, 0.9925, 0.9921, 0.9936, 0.9926, 0.9927, 0.9934, 0.9929, 0.9961,\n",
       "          0.9951, 0.9915, 0.9906, 0.9925, 0.9924, 0.9919, 0.9928, 0.9926, 0.9936,\n",
       "          0.9934, 0.9924, 0.9910, 0.9898, 0.9909, 0.9910, 0.9932, 0.9920, 0.9910,\n",
       "          0.9934, 0.9913, 0.9917, 0.9921, 0.9923, 0.9908, 0.9953, 0.9876, 0.9900,\n",
       "          0.9904, 0.9849, 0.9865, 0.9893, 0.9882, 0.9909, 0.9878, 0.9940, 0.9954,\n",
       "          0.9927, 0.9932, 0.9953, 0.9918, 0.9833, 0.9893, 0.9886, 0.9899, 0.9960,\n",
       "          0.9919, 0.9929, 0.9898, 0.9932, 0.9949, 0.9929, 0.9827, 0.9873, 0.9942,\n",
       "          0.9902, 0.9937, 0.9919, 0.9907, 0.9950, 0.9913, 0.9914]))]"
      ]
     },
     "execution_count": 25,
     "metadata": {},
     "output_type": "execute_result"
    }
   ],
   "source": [
    "trainer.predict(model, extenal_data_loader)"
   ]
  },
  {
   "cell_type": "code",
   "execution_count": null,
   "id": "d1083b6b-0600-4fa8-9a5c-09c28e191d4c",
   "metadata": {},
   "outputs": [],
   "source": []
  }
 ],
 "metadata": {
  "kernelspec": {
   "display_name": "Python 3 (ipykernel)",
   "language": "python",
   "name": "python3"
  },
  "language_info": {
   "codemirror_mode": {
    "name": "ipython",
    "version": 3
   },
   "file_extension": ".py",
   "mimetype": "text/x-python",
   "name": "python",
   "nbconvert_exporter": "python",
   "pygments_lexer": "ipython3",
   "version": "3.9.13"
  }
 },
 "nbformat": 4,
 "nbformat_minor": 5
}
