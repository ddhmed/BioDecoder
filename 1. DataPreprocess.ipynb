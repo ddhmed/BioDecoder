{
 "cells": [
  {
   "cell_type": "code",
   "execution_count": 1,
   "id": "b4e02a2d-6b60-43ed-b96c-2eb0fd10f5dd",
   "metadata": {},
   "outputs": [],
   "source": [
    "### General analysis package\n",
    "import os\n",
    "import time\n",
    "import random\n",
    "import numpy as np\n",
    "import pandas as pd\n",
    "import scipy.stats as stats\n",
    "from scipy.stats import norm, pearsonr, spearmanr\n",
    "from scipy.spatial import distance\n",
    "### Drawing package\n",
    "import matplotlib.pyplot as plt\n",
    "from matplotlib import gridspec\n",
    "import matplotlib.lines as mlines\n",
    "from matplotlib.font_manager import FontProperties\n",
    "#import seaborn as sns\n",
    "import matplotlib as mpl\n",
    "mpl.rcParams['pdf.fonttype'] = 42 # Output editable PDF text\n",
    "### else\n",
    "#import cloudpickle as pickle\n",
    "import warnings\n",
    "warnings.filterwarnings(\"ignore\") # Error alert\n",
    "from IPython.core.interactiveshell import InteractiveShell\n",
    "InteractiveShell.ast_node_interactivity = 'all' #last_expr"
   ]
  },
  {
   "cell_type": "code",
   "execution_count": 2,
   "id": "2d21728e-b854-4ad0-ae5e-dc8031301c5b",
   "metadata": {},
   "outputs": [
    {
     "name": "stdout",
     "output_type": "stream",
     "text": [
      "Using torch 1.10.1\n"
     ]
    }
   ],
   "source": [
    "from sklearn import model_selection\n",
    "from sklearn.ensemble import RandomForestClassifier\n",
    "from sklearn.linear_model import LogisticRegression\n",
    "from sklearn.svm import SVC\n",
    "from sklearn.metrics import roc_auc_score, accuracy_score\n",
    "from sklearn.model_selection import train_test_split, StratifiedShuffleSplit\n",
    "from sklearn.metrics import accuracy_score, balanced_accuracy_score, recall_score, precision_score, roc_auc_score\n",
    "\n",
    "import math\n",
    "import torch\n",
    "from torch import nn\n",
    "import torch.nn.functional as F\n",
    "import torch.utils.data as TorchData\n",
    "from torchmetrics import Accuracy\n",
    "from pytorch_lightning import LightningModule, Trainer\n",
    "from pytorch_lightning.callbacks.early_stopping import EarlyStopping\n",
    "\n",
    "from imblearn.over_sampling import RandomOverSampler, SMOTE\n",
    "\n",
    "import warnings\n",
    "warnings.filterwarnings('ignore')\n",
    "\n",
    "SEED = 42\n",
    "def seed_everything(seed=0):\n",
    "    random.seed(seed)\n",
    "    os.environ['PYTHONHASHSEED'] = str(seed)\n",
    "    np.random.seed(seed)\n",
    "    torch.manual_seed(seed)\n",
    "    torch.backends.cudnn.deterministic = True\n",
    "    torch.backends.cudnn.benchmark = False\n",
    "seed_everything(SEED)\n",
    "\n",
    "print(\"Using torch\", torch.__version__)"
   ]
  },
  {
   "cell_type": "markdown",
   "id": "8139434d-2e5f-49aa-b606-c73d777bb6ab",
   "metadata": {},
   "source": [
    "# 1.Modeling data"
   ]
  },
  {
   "cell_type": "code",
   "execution_count": 1,
   "id": "aa1c9029-787b-4d7a-8306-d34353175259",
   "metadata": {},
   "outputs": [
    {
     "ename": "NameError",
     "evalue": "name 'pd' is not defined",
     "output_type": "error",
     "traceback": [
      "\u001b[1;31m---------------------------------------------------------------------------\u001b[0m",
      "\u001b[1;31mNameError\u001b[0m                                 Traceback (most recent call last)",
      "\u001b[1;32m~\\AppData\\Local\\Temp\\ipykernel_3044\\1983125729.py\u001b[0m in \u001b[0;36m<module>\u001b[1;34m\u001b[0m\n\u001b[0;32m      1\u001b[0m \u001b[0mpath\u001b[0m \u001b[1;33m=\u001b[0m \u001b[1;34m'Breast cancer/'\u001b[0m\u001b[1;33m\u001b[0m\u001b[1;33m\u001b[0m\u001b[0m\n\u001b[1;32m----> 2\u001b[1;33m \u001b[0mdata\u001b[0m \u001b[1;33m=\u001b[0m \u001b[0mpd\u001b[0m\u001b[1;33m.\u001b[0m\u001b[0mread_csv\u001b[0m\u001b[1;33m(\u001b[0m\u001b[0mpath\u001b[0m\u001b[1;33m+\u001b[0m\u001b[1;34m'E-GEOD-73002.csv'\u001b[0m\u001b[1;33m,\u001b[0m \u001b[0mindex_col\u001b[0m\u001b[1;33m=\u001b[0m\u001b[1;36m0\u001b[0m\u001b[1;33m)\u001b[0m\u001b[1;33m\u001b[0m\u001b[1;33m\u001b[0m\u001b[0m\n\u001b[0m\u001b[0;32m      3\u001b[0m \u001b[0mdata\u001b[0m \u001b[1;33m=\u001b[0m \u001b[0mdata\u001b[0m\u001b[1;33m.\u001b[0m\u001b[0mfillna\u001b[0m\u001b[1;33m(\u001b[0m\u001b[1;36m0\u001b[0m\u001b[1;33m)\u001b[0m\u001b[1;33m\u001b[0m\u001b[1;33m\u001b[0m\u001b[0m\n\u001b[0;32m      4\u001b[0m \u001b[0mdata\u001b[0m\u001b[1;33m[\u001b[0m\u001b[1;34m'Label'\u001b[0m\u001b[1;33m]\u001b[0m \u001b[1;33m=\u001b[0m \u001b[1;33m[\u001b[0m\u001b[1;36m1\u001b[0m \u001b[1;32mif\u001b[0m \u001b[0mi\u001b[0m \u001b[1;33m==\u001b[0m \u001b[1;34m'Breast Cancer'\u001b[0m \u001b[1;32melse\u001b[0m \u001b[1;36m0\u001b[0m \u001b[1;32mfor\u001b[0m \u001b[0mi\u001b[0m \u001b[1;32min\u001b[0m \u001b[0mlist\u001b[0m\u001b[1;33m(\u001b[0m\u001b[0mdata\u001b[0m\u001b[1;33m[\u001b[0m\u001b[1;34m'Label'\u001b[0m\u001b[1;33m]\u001b[0m\u001b[1;33m)\u001b[0m\u001b[1;33m]\u001b[0m\u001b[1;33m\u001b[0m\u001b[1;33m\u001b[0m\u001b[0m\n\u001b[0;32m      5\u001b[0m \u001b[1;34m'# Feature number (microRNA) = '\u001b[0m \u001b[1;33m+\u001b[0m \u001b[0mstr\u001b[0m\u001b[1;33m(\u001b[0m\u001b[0mdata\u001b[0m\u001b[1;33m.\u001b[0m\u001b[0mshape\u001b[0m\u001b[1;33m[\u001b[0m\u001b[1;36m1\u001b[0m\u001b[1;33m]\u001b[0m\u001b[1;33m)\u001b[0m\u001b[1;33m\u001b[0m\u001b[1;33m\u001b[0m\u001b[0m\n",
      "\u001b[1;31mNameError\u001b[0m: name 'pd' is not defined"
     ]
    }
   ],
   "source": [
    "path = 'Breast cancer/'\n",
    "data = pd.read_csv(path+'E-GEOD-73002.csv', index_col=0)\n",
    "data = data.fillna(0)\n",
    "data['Label'] = [1 if i == 'Breast Cancer' else 0 for i in list(data['Label'])]\n",
    "'# Feature number (microRNA) = ' + str(data.shape[1])"
   ]
  },
  {
   "cell_type": "code",
   "execution_count": 4,
   "id": "2a0894bf-a0a0-4052-9dee-4b3f28ba9df6",
   "metadata": {},
   "outputs": [
    {
     "name": "stdout",
     "output_type": "stream",
     "text": [
      "# 样本数量 ：Cancer = 1280; Normal = 2833\n"
     ]
    },
    {
     "data": {
      "image/png": "[encoded data removed]",
      "text/plain": [
       "<Figure size 240x480 with 1 Axes>"
      ]
     },
     "metadata": {
      "needs_background": "light"
     },
     "output_type": "display_data"
    }
   ],
   "source": [
    "print('# sample size ：Cancer = '+str(list(data['Label']).count(1))+'; Normal = '+str(list(data['Label']).count(0)))\n",
    "fig = plt.figure(1, (3, 6), dpi=80)\n",
    "_ = plt.bar([0, 1], [list(data['Label']).count(0), list(data['Label']).count(1)])\n",
    "_ = plt.xticks([0, 1], ['Normal', 'Cancer'], fontsize=15)\n",
    "_ = plt.yticks(fontsize=13)\n",
    "_ = plt.show()\n",
    "fig.savefig('20220610_Results/1. Data distribution.pdf', dpi=300)"
   ]
  },
  {
   "cell_type": "markdown",
   "id": "474cf4af-6f4e-456f-8e4d-b21235191d70",
   "metadata": {},
   "source": [
    "# 2. Data segmentation, training test"
   ]
  },
  {
   "cell_type": "code",
   "execution_count": 5,
   "id": "2925bfc3-938f-4142-88ea-09184d0f0d9b",
   "metadata": {},
   "outputs": [
    {
     "data": {
      "text/plain": [
       "'训练集: (2467, 2540)([1699, 768]); 测试集: (1646, 2540)([1134, 512])'"
      ]
     },
     "execution_count": 5,
     "metadata": {},
     "output_type": "execute_result"
    },
    {
     "data": {
      "image/png": "[encoded data removed]",
      "text/plain": [
       "<Figure size 240x480 with 1 Axes>"
      ]
     },
     "metadata": {
      "needs_background": "light"
     },
     "output_type": "display_data"
    }
   ],
   "source": [
    "cv = model_selection.StratifiedShuffleSplit(n_splits=2, test_size=.4, random_state=SEED)\n",
    "X = data.iloc[:, :-1]\n",
    "y = data['Label']\n",
    "for train_index, test_index in cv.split(X, y):pass\n",
    "X_train, X_test = X.iloc[train_index, :], X.iloc[test_index, :]\n",
    "y_train, y_test = y.iloc[train_index], y.iloc[test_index]\n",
    "f'Training set: {X_train.shape}({[(y_train==i).sum() for i in [0, 1]]}); Test set: {X_test.shape}({[(y_test==i).sum() for i in [0, 1]]})'\n",
    "\n",
    "fig = plt.figure(1, (3, 6), dpi=80)\n",
    "_ = plt.bar([0, 1], [list(y_train).count(0), list(y_train).count(1)], label='Train')\n",
    "_ = plt.bar([0, 1], [list(y_test).count(0), list(y_test).count(1)],\n",
    "            bottom=[list(y_train).count(0), list(y_train).count(1)], label='Test')\n",
    "_ = plt.legend()\n",
    "_ = plt.xticks([0, 1], ['Normal', 'Cancer'], fontsize=15)\n",
    "_ = plt.yticks(fontsize=13)\n",
    "_ = plt.show()\n",
    "fig.savefig('20220610_Results/1. Datadistribution_trainingtest.pdf', dpi=300)"
   ]
  },
  {
   "cell_type": "code",
   "execution_count": 6,
   "id": "2effcf70-40ce-4652-a04b-d2d2980658d6",
   "metadata": {},
   "outputs": [],
   "source": [
    "X_train.to_csv('20220610_Results/1. X_train.csv', index=True)\n",
    "X_test.to_csv('20220610_Results/1. X_test.csv', index=True)\n",
    "y_train.to_csv('20220610_Results/1. y_train.csv', index=True)\n",
    "y_test.to_csv('20220610_Results/1. y_test.csv', index=True)"
   ]
  },
  {
   "cell_type": "markdown",
   "id": "90e38165-4305-428c-a9ea-5d01acaefcfa",
   "metadata": {},
   "source": [
    "# 3. Training dataoversampling"
   ]
  },
  {
   "cell_type": "code",
   "execution_count": 7,
   "id": "e82926ad-eb06-492c-9d79-8a48c73dc277",
   "metadata": {},
   "outputs": [
    {
     "data": {
      "text/plain": [
       "(3398, 2540)"
      ]
     },
     "execution_count": 7,
     "metadata": {},
     "output_type": "execute_result"
    }
   ],
   "source": [
    "### Oversampling\n",
    "ros = RandomOverSampler(random_state=SEED)\n",
    "#ros = SMOTE()\n",
    "#ros = ADASYN()\n",
    "X_ros, y_ros = ros.fit_resample(X_train, y_train)\n",
    "X_ros.shape\n",
    "X_ros.to_csv('20220610_Results/1. X_train_ros.csv', index=True)\n",
    "y_ros.to_csv('20220610_Results/1. y_train_ros.csv', index=True)"
   ]
  },
  {
   "cell_type": "code",
   "execution_count": 8,
   "id": "3e6941ce-0036-44e9-a333-f86ac17efc5f",
   "metadata": {},
   "outputs": [
    {
     "data": {
      "text/plain": [
       "(3398, 2540)"
      ]
     },
     "execution_count": 8,
     "metadata": {},
     "output_type": "execute_result"
    }
   ],
   "source": [
    "ros = SMOTE()\n",
    "X_ros, y_ros = ros.fit_resample(X_train, y_train)\n",
    "X_ros.shape\n",
    "X_ros.to_csv('20220610_Results/1. X_train_SMOTE.csv', index=True)\n",
    "y_ros.to_csv('20220610_Results/1. y_train_SMOTE.csv', index=True)"
   ]
  },
  {
   "cell_type": "markdown",
   "id": "a7545a6b-eca2-4b4c-9d14-e9a4f1816486",
   "metadata": {},
   "source": [
    "# 4. External data（Kaggle）"
   ]
  },
  {
   "cell_type": "code",
   "execution_count": 11,
   "id": "135fa2f6-0340-4b92-a68d-0aaf37f1c3c8",
   "metadata": {},
   "outputs": [
    {
     "data": {
      "text/html": [
       "<div>\n",
       "<style scoped>\n",
       "    .dataframe tbody tr th:only-of-type {\n",
       "        vertical-align: middle;\n",
       "    }\n",
       "\n",
       "    .dataframe tbody tr th {\n",
       "        vertical-align: top;\n",
       "    }\n",
       "\n",
       "    .dataframe thead th {\n",
       "        text-align: right;\n",
       "    }\n",
       "</style>\n",
       "<table border=\"1\" class=\"dataframe\">\n",
       "  <thead>\n",
       "    <tr style=\"text-align: right;\">\n",
       "      <th></th>\n",
       "      <th>4040 : hsa-miR-9-5p</th>\n",
       "      <th>4610 : hsa-miR-126-3p</th>\n",
       "      <th>4700 : hsa-miR-140-5p</th>\n",
       "      <th>5250 : hsa-miR-105-5p</th>\n",
       "      <th>6880 : hsa-miR-297</th>\n",
       "      <th>9938 : hsa-let-7i-5p</th>\n",
       "      <th>10138 : hsa-miR-130a-3p</th>\n",
       "      <th>10306 : hsa-miR-146b-5p</th>\n",
       "      <th>10901 : hsa_negative_control_6</th>\n",
       "      <th>10902 : hsa_negative_control_7</th>\n",
       "      <th>...</th>\n",
       "      <th>169411 : hsa-miR-205-3p</th>\n",
       "      <th>169412 : hsa-miR-1260a</th>\n",
       "      <th>169414 : hsa-miR-525-5p</th>\n",
       "      <th>169415 : hsa-miR-187-5p</th>\n",
       "      <th>169416 : hsa-miRPlus-A1086</th>\n",
       "      <th>169417 : hsa-miR-551b-5p</th>\n",
       "      <th>169419 : hsa-miR-300</th>\n",
       "      <th>169420 : hsa-miR-193b-5p</th>\n",
       "      <th>target</th>\n",
       "      <th>target_actual</th>\n",
       "    </tr>\n",
       "  </thead>\n",
       "  <tbody>\n",
       "    <tr>\n",
       "      <th>0</th>\n",
       "      <td>6.877643</td>\n",
       "      <td>8.080215</td>\n",
       "      <td>6.245265</td>\n",
       "      <td>6.304782</td>\n",
       "      <td>6.686064</td>\n",
       "      <td>7.805950</td>\n",
       "      <td>6.814781</td>\n",
       "      <td>7.146955</td>\n",
       "      <td>6.170680</td>\n",
       "      <td>6.129586</td>\n",
       "      <td>...</td>\n",
       "      <td>7.176684</td>\n",
       "      <td>7.724408</td>\n",
       "      <td>6.035476</td>\n",
       "      <td>6.255048</td>\n",
       "      <td>6.572019</td>\n",
       "      <td>6.251777</td>\n",
       "      <td>5.873303</td>\n",
       "      <td>6.362097</td>\n",
       "      <td>1</td>\n",
       "      <td>primary breast cancer</td>\n",
       "    </tr>\n",
       "    <tr>\n",
       "      <th>1</th>\n",
       "      <td>6.544287</td>\n",
       "      <td>6.882722</td>\n",
       "      <td>5.874236</td>\n",
       "      <td>6.324987</td>\n",
       "      <td>6.638048</td>\n",
       "      <td>6.946567</td>\n",
       "      <td>6.488574</td>\n",
       "      <td>6.690773</td>\n",
       "      <td>6.160272</td>\n",
       "      <td>6.104929</td>\n",
       "      <td>...</td>\n",
       "      <td>7.249094</td>\n",
       "      <td>7.308890</td>\n",
       "      <td>6.021796</td>\n",
       "      <td>6.902473</td>\n",
       "      <td>6.347183</td>\n",
       "      <td>6.625569</td>\n",
       "      <td>6.004899</td>\n",
       "      <td>6.560329</td>\n",
       "      <td>1</td>\n",
       "      <td>primary breast cancer</td>\n",
       "    </tr>\n",
       "  </tbody>\n",
       "</table>\n",
       "<p>2 rows × 1928 columns</p>\n",
       "</div>"
      ],
      "text/plain": [
       "   4040 : hsa-miR-9-5p  4610 : hsa-miR-126-3p  4700 : hsa-miR-140-5p  \\\n",
       "0             6.877643               8.080215               6.245265   \n",
       "1             6.544287               6.882722               5.874236   \n",
       "\n",
       "   5250 : hsa-miR-105-5p  6880 : hsa-miR-297  9938 : hsa-let-7i-5p  \\\n",
       "0               6.304782            6.686064              7.805950   \n",
       "1               6.324987            6.638048              6.946567   \n",
       "\n",
       "   10138 : hsa-miR-130a-3p  10306 : hsa-miR-146b-5p  \\\n",
       "0                 6.814781                 7.146955   \n",
       "1                 6.488574                 6.690773   \n",
       "\n",
       "   10901 : hsa_negative_control_6  10902 : hsa_negative_control_7  ...  \\\n",
       "0                        6.170680                        6.129586  ...   \n",
       "1                        6.160272                        6.104929  ...   \n",
       "\n",
       "   169411 : hsa-miR-205-3p  169412 : hsa-miR-1260a  169414 : hsa-miR-525-5p  \\\n",
       "0                 7.176684                7.724408                 6.035476   \n",
       "1                 7.249094                7.308890                 6.021796   \n",
       "\n",
       "   169415 : hsa-miR-187-5p  169416 : hsa-miRPlus-A1086  \\\n",
       "0                 6.255048                    6.572019   \n",
       "1                 6.902473                    6.347183   \n",
       "\n",
       "   169417 : hsa-miR-551b-5p  169419 : hsa-miR-300  169420 : hsa-miR-193b-5p  \\\n",
       "0                  6.251777              5.873303                  6.362097   \n",
       "1                  6.625569              6.004899                  6.560329   \n",
       "\n",
       "   target          target_actual  \n",
       "0       1  primary breast cancer  \n",
       "1       1  primary breast cancer  \n",
       "\n",
       "[2 rows x 1928 columns]"
      ]
     },
     "execution_count": 11,
     "metadata": {},
     "output_type": "execute_result"
    },
    {
     "name": "stdout",
     "output_type": "stream",
     "text": [
      "1928 2540 1735\n"
     ]
    }
   ],
   "source": [
    "#print(cont_names)\n",
    "vali_data = pd.read_csv(path+'KaggleData/GSE58606_data.csv')\n",
    "vali_data.head(2)\n",
    "columns = [str(i).split(':')[1].strip() for i in list(vali_data.columns)[:-2]]\n",
    "columns.extend(['Label', 'Disease'])\n",
    "vali_data.columns = columns\n",
    "label = vali_data['Label']\n",
    "print(len(vali_data.columns), len(X.columns), len(set(vali_data.columns)&set(X.columns)))\n",
    "vali_data.to_csv('20220610_Results/1. GSE58606.csv')"
   ]
  },
  {
   "cell_type": "code",
   "execution_count": 12,
   "id": "6b031cb2-c689-4f01-8038-f70e64728bf7",
   "metadata": {},
   "outputs": [
    {
     "data": {
      "text/plain": [
       "710"
      ]
     },
     "execution_count": 12,
     "metadata": {},
     "output_type": "execute_result"
    }
   ],
   "source": [
    "diff_up = pd.read_csv(path+'DEG/Micro_up.csv', index_col=0)\n",
    "diff_dn = pd.read_csv(path+'DEG/Micro_down.csv', index_col=0)\n",
    "diffs = list(diff_up.index)+list(diff_dn.index)\n",
    "len(diffs)\n",
    "diffs = [i.replace('.', '-').replace('p-hsa', 'p;hsa') for i in diffs]"
   ]
  },
  {
   "cell_type": "code",
   "execution_count": 13,
   "id": "1655bbf8-184d-4425-9508-742647adfbae",
   "metadata": {},
   "outputs": [
    {
     "data": {
      "text/plain": [
       "523"
      ]
     },
     "execution_count": 13,
     "metadata": {},
     "output_type": "execute_result"
    }
   ],
   "source": [
    "len(set(diffs)&set(vali_data.columns))"
   ]
  },
  {
   "cell_type": "code",
   "execution_count": 14,
   "id": "a2d8110f-d401-4dde-a093-d236d9e6474e",
   "metadata": {},
   "outputs": [
    {
     "data": {
      "text/plain": [
       "710"
      ]
     },
     "execution_count": 14,
     "metadata": {},
     "output_type": "execute_result"
    }
   ],
   "source": [
    "len(set(diffs)&set(X.columns))"
   ]
  },
  {
   "cell_type": "code",
   "execution_count": 15,
   "id": "e36e40ab-c656-4e5a-9c21-bb1166aae992",
   "metadata": {},
   "outputs": [],
   "source": [
    "diff_res = pd.concat([diff_up, diff_dn], axis=0, sort=False)\n",
    "diff_res['ID'] = diffs\n",
    "diff_res.to_csv('20220610_Results/1. diff_microRNA(FC2_FDR0.05).csv')"
   ]
  },
  {
   "cell_type": "code",
   "execution_count": null,
   "id": "16b55625-3e79-404c-8d57-8cc6a13207a4",
   "metadata": {},
   "outputs": [],
   "source": []
  },
  {
   "cell_type": "code",
   "execution_count": null,
   "id": "7ec13fa7-f43d-4301-aced-91cea666d77f",
   "metadata": {},
   "outputs": [],
   "source": []
  },
  {
   "cell_type": "code",
   "execution_count": null,
   "id": "017d5d2a-c653-4289-a7bd-bb0f9d0700f8",
   "metadata": {},
   "outputs": [],
   "source": []
  },
  {
   "cell_type": "code",
   "execution_count": null,
   "id": "f5828ce8-92e9-4757-82c6-fa6cb6180fa0",
   "metadata": {},
   "outputs": [],
   "source": []
  }
 ],
 "metadata": {
  "kernelspec": {
   "display_name": "Python 3 (ipykernel)",
   "language": "python",
   "name": "python3"
  },
  "language_info": {
   "codemirror_mode": {
    "name": "ipython",
    "version": 3
   },
   "file_extension": ".py",
   "mimetype": "text/x-python",
   "name": "python",
   "nbconvert_exporter": "python",
   "pygments_lexer": "ipython3",
   "version": "3.9.13"
  }
 },
 "nbformat": 4,
 "nbformat_minor": 5
}
